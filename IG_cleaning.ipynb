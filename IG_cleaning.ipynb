{
 "cells": [
  {
   "cell_type": "code",
   "execution_count": 1,
   "metadata": {},
   "outputs": [],
   "source": [
    "import pandas as pd\n",
    "import numpy as np\n",
    "import matplotlib.pyplot as plt\n",
    "import seaborn as sns\n",
    "import re\n",
    "from textblob import TextBlob\n",
    "import emoji\n",
    "from IPython.display import display"
   ]
  },
  {
   "cell_type": "code",
   "execution_count": 2,
   "metadata": {},
   "outputs": [],
   "source": [
    "import pprint # For \"pretty-printing\" of Python objects -- easier to interprate output \n",
    "pp = pprint.PrettyPrinter() # Create a pprint object"
   ]
  },
  {
   "cell_type": "markdown",
   "metadata": {},
   "source": [
    "Import preprocess.py file which contains defined functions that will load objects and create dataframes.\n",
    "We should add to this file as we unpack these columns from the json"
   ]
  },
  {
   "cell_type": "code",
   "execution_count": 4,
   "metadata": {},
   "outputs": [],
   "source": [
    "from preprocess import tweet_open, insta_comment, extract_emojis"
   ]
  },
  {
   "cell_type": "markdown",
   "metadata": {},
   "source": [
    "### Check out the whole json file"
   ]
  },
  {
   "cell_type": "code",
   "execution_count": 5,
   "metadata": {},
   "outputs": [
    {
     "data": {
      "text/html": [
       "<div>\n",
       "<style>\n",
       "    .dataframe thead tr:only-child th {\n",
       "        text-align: right;\n",
       "    }\n",
       "\n",
       "    .dataframe thead th {\n",
       "        text-align: left;\n",
       "    }\n",
       "\n",
       "    .dataframe tbody tr th {\n",
       "        vertical-align: top;\n",
       "    }\n",
       "</style>\n",
       "<table border=\"1\" class=\"dataframe\">\n",
       "  <thead>\n",
       "    <tr style=\"text-align: right;\">\n",
       "      <th></th>\n",
       "      <th>__typename</th>\n",
       "      <th>comments</th>\n",
       "      <th>comments_disabled</th>\n",
       "      <th>dimensions</th>\n",
       "      <th>display_url</th>\n",
       "      <th>edge_media_preview_like</th>\n",
       "      <th>edge_media_to_caption</th>\n",
       "      <th>edge_media_to_comment</th>\n",
       "      <th>gating_info</th>\n",
       "      <th>id</th>\n",
       "      <th>...</th>\n",
       "      <th>media_preview</th>\n",
       "      <th>owner</th>\n",
       "      <th>shortcode</th>\n",
       "      <th>tags</th>\n",
       "      <th>taken_at_timestamp</th>\n",
       "      <th>thumbnail_resources</th>\n",
       "      <th>thumbnail_src</th>\n",
       "      <th>urls</th>\n",
       "      <th>username</th>\n",
       "      <th>video_view_count</th>\n",
       "    </tr>\n",
       "  </thead>\n",
       "  <tbody>\n",
       "    <tr>\n",
       "      <th>0</th>\n",
       "      <td>GraphVideo</td>\n",
       "      <td>{'data': [{'created_at': 1536899339, 'id': '17...</td>\n",
       "      <td>False</td>\n",
       "      <td>{'height': 607, 'width': 1080}</td>\n",
       "      <td>https://scontent-lga3-1.cdninstagram.com/vp/8b...</td>\n",
       "      <td>{'count': 2202}</td>\n",
       "      <td>{'edges': [{'node': {'text': 'Meeting Aretha F...</td>\n",
       "      <td>{'count': 77}</td>\n",
       "      <td>NaN</td>\n",
       "      <td>1867926020993499648</td>\n",
       "      <td>...</td>\n",
       "      <td>ACoXLHUGgBDgtn1J4x9c1Ncag0n+ryuPQ1hvdBzlgc/lV6...</td>\n",
       "      <td>{'id': '359244331'}</td>\n",
       "      <td>BnsNNHEBsGY</td>\n",
       "      <td>[ComingSoon, Subscribe, ArethaFranklin, AliCal...</td>\n",
       "      <td>1536897261</td>\n",
       "      <td>[{'config_height': 150, 'config_width': 150, '...</td>\n",
       "      <td>https://scontent-lga3-1.cdninstagram.com/vp/91...</td>\n",
       "      <td>[https://scontent-lga3-1.cdninstagram.com/vp/d...</td>\n",
       "      <td>iamalicaldwell</td>\n",
       "      <td>0</td>\n",
       "    </tr>\n",
       "    <tr>\n",
       "      <th>1</th>\n",
       "      <td>GraphVideo</td>\n",
       "      <td>{'data': [{'created_at': 1536876260, 'id': '17...</td>\n",
       "      <td>False</td>\n",
       "      <td>{'height': 423, 'width': 750}</td>\n",
       "      <td>https://scontent-lga3-1.cdninstagram.com/vp/c9...</td>\n",
       "      <td>{'count': 2568}</td>\n",
       "      <td>{'edges': [{'node': {'text': 'Never in my life...</td>\n",
       "      <td>{'count': 138}</td>\n",
       "      <td>NaN</td>\n",
       "      <td>1867600018689977344</td>\n",
       "      <td>...</td>\n",
       "      <td>ACoXxkVZGwQSOBxTSgRmUHIHek8wdRwadF87Evk+tIv8yQ...</td>\n",
       "      <td>{'id': '359244331'}</td>\n",
       "      <td>BnrDFJwh2vN</td>\n",
       "      <td>[ComingSoon, AliCaldwell, StoneCold, DemiLovat...</td>\n",
       "      <td>1536856372</td>\n",
       "      <td>[{'config_height': 150, 'config_width': 150, '...</td>\n",
       "      <td>https://scontent-lga3-1.cdninstagram.com/vp/31...</td>\n",
       "      <td>[https://scontent-lga3-1.cdninstagram.com/vp/6...</td>\n",
       "      <td>iamalicaldwell</td>\n",
       "      <td>0</td>\n",
       "    </tr>\n",
       "  </tbody>\n",
       "</table>\n",
       "<p>2 rows × 21 columns</p>\n",
       "</div>"
      ],
      "text/plain": [
       "   __typename                                           comments  \\\n",
       "0  GraphVideo  {'data': [{'created_at': 1536899339, 'id': '17...   \n",
       "1  GraphVideo  {'data': [{'created_at': 1536876260, 'id': '17...   \n",
       "\n",
       "   comments_disabled                      dimensions  \\\n",
       "0              False  {'height': 607, 'width': 1080}   \n",
       "1              False   {'height': 423, 'width': 750}   \n",
       "\n",
       "                                         display_url edge_media_preview_like  \\\n",
       "0  https://scontent-lga3-1.cdninstagram.com/vp/8b...         {'count': 2202}   \n",
       "1  https://scontent-lga3-1.cdninstagram.com/vp/c9...         {'count': 2568}   \n",
       "\n",
       "                               edge_media_to_caption edge_media_to_comment  \\\n",
       "0  {'edges': [{'node': {'text': 'Meeting Aretha F...         {'count': 77}   \n",
       "1  {'edges': [{'node': {'text': 'Never in my life...        {'count': 138}   \n",
       "\n",
       "   gating_info                   id       ...         \\\n",
       "0          NaN  1867926020993499648       ...          \n",
       "1          NaN  1867600018689977344       ...          \n",
       "\n",
       "                                       media_preview                owner  \\\n",
       "0  ACoXLHUGgBDgtn1J4x9c1Ncag0n+ryuPQ1hvdBzlgc/lV6...  {'id': '359244331'}   \n",
       "1  ACoXxkVZGwQSOBxTSgRmUHIHek8wdRwadF87Evk+tIv8yQ...  {'id': '359244331'}   \n",
       "\n",
       "     shortcode                                               tags  \\\n",
       "0  BnsNNHEBsGY  [ComingSoon, Subscribe, ArethaFranklin, AliCal...   \n",
       "1  BnrDFJwh2vN  [ComingSoon, AliCaldwell, StoneCold, DemiLovat...   \n",
       "\n",
       "  taken_at_timestamp                                thumbnail_resources  \\\n",
       "0         1536897261  [{'config_height': 150, 'config_width': 150, '...   \n",
       "1         1536856372  [{'config_height': 150, 'config_width': 150, '...   \n",
       "\n",
       "                                       thumbnail_src  \\\n",
       "0  https://scontent-lga3-1.cdninstagram.com/vp/91...   \n",
       "1  https://scontent-lga3-1.cdninstagram.com/vp/31...   \n",
       "\n",
       "                                                urls        username  \\\n",
       "0  [https://scontent-lga3-1.cdninstagram.com/vp/d...  iamalicaldwell   \n",
       "1  [https://scontent-lga3-1.cdninstagram.com/vp/6...  iamalicaldwell   \n",
       "\n",
       "  video_view_count  \n",
       "0                0  \n",
       "1                0  \n",
       "\n",
       "[2 rows x 21 columns]"
      ]
     },
     "metadata": {},
     "output_type": "display_data"
    },
    {
     "name": "stdout",
     "output_type": "stream",
     "text": [
      "['__typename',\n",
      " 'comments',\n",
      " 'comments_disabled',\n",
      " 'dimensions',\n",
      " 'display_url',\n",
      " 'edge_media_preview_like',\n",
      " 'edge_media_to_caption',\n",
      " 'edge_media_to_comment',\n",
      " 'gating_info',\n",
      " 'id',\n",
      " 'is_video',\n",
      " 'media_preview',\n",
      " 'owner',\n",
      " 'shortcode',\n",
      " 'tags',\n",
      " 'taken_at_timestamp',\n",
      " 'thumbnail_resources',\n",
      " 'thumbnail_src',\n",
      " 'urls',\n",
      " 'username',\n",
      " 'video_view_count']\n"
     ]
    }
   ],
   "source": [
    "# We load in the json output from the IG sraper as a df\n",
    "\n",
    "IG_media = pd.read_json('iamalicaldwell.json')\n",
    "display(IG_media.head())\n",
    "pp.pprint(list(IG_media.columns))"
   ]
  },
  {
   "cell_type": "markdown",
   "metadata": {},
   "source": [
    "- Each row is a unique posting to user's IG profile.\n",
    "- There are many useful columns, **most** of which are dictionaries"
   ]
  },
  {
   "cell_type": "markdown",
   "metadata": {},
   "source": [
    "# Check out comments\n",
    "Since each row is a unique post made user, we'll focus on the first one which is a video (see link to it)\n",
    "- https://www.instagram.com/p/BnsNNHEBsGY/?utm_source=ig_web_button_share_sheet\n",
    "- FYI, she has a new post from today, 9/15, so we may want to scrape that"
   ]
  },
  {
   "cell_type": "code",
   "execution_count": 17,
   "metadata": {},
   "outputs": [
    {
     "name": "stdout",
     "output_type": "stream",
     "text": [
      "There are 76 comments.\n"
     ]
    },
    {
     "data": {
      "text/html": [
       "<div>\n",
       "<style>\n",
       "    .dataframe thead tr:only-child th {\n",
       "        text-align: right;\n",
       "    }\n",
       "\n",
       "    .dataframe thead th {\n",
       "        text-align: left;\n",
       "    }\n",
       "\n",
       "    .dataframe tbody tr th {\n",
       "        vertical-align: top;\n",
       "    }\n",
       "</style>\n",
       "<table border=\"1\" class=\"dataframe\">\n",
       "  <thead>\n",
       "    <tr style=\"text-align: right;\">\n",
       "      <th></th>\n",
       "      <th>created_at</th>\n",
       "      <th>id</th>\n",
       "      <th>owner</th>\n",
       "      <th>text</th>\n",
       "    </tr>\n",
       "  </thead>\n",
       "  <tbody>\n",
       "    <tr>\n",
       "      <th>0</th>\n",
       "      <td>1536899339</td>\n",
       "      <td>17978534839016109</td>\n",
       "      <td>{'id': '144873547', 'profile_pic_url': 'https:...</td>\n",
       "      <td>Yes queen ❤️</td>\n",
       "    </tr>\n",
       "    <tr>\n",
       "      <th>1</th>\n",
       "      <td>1536899816</td>\n",
       "      <td>17964347710106185</td>\n",
       "      <td>{'id': '1031014256', 'profile_pic_url': 'https...</td>\n",
       "      <td>She'd be proud you sing her music well.</td>\n",
       "    </tr>\n",
       "    <tr>\n",
       "      <th>2</th>\n",
       "      <td>1536899866</td>\n",
       "      <td>17888244430260360</td>\n",
       "      <td>{'id': '194960641', 'profile_pic_url': 'https:...</td>\n",
       "      <td>Chills!!!!</td>\n",
       "    </tr>\n",
       "    <tr>\n",
       "      <th>3</th>\n",
       "      <td>1536900043</td>\n",
       "      <td>17950907089144935</td>\n",
       "      <td>{'id': '3032556430', 'profile_pic_url': 'https...</td>\n",
       "      <td>Queeeeennnn</td>\n",
       "    </tr>\n",
       "    <tr>\n",
       "      <th>4</th>\n",
       "      <td>1536900050</td>\n",
       "      <td>17881014838264700</td>\n",
       "      <td>{'id': '3032556430', 'profile_pic_url': 'https...</td>\n",
       "      <td>Singggggg😍😍😍😍😍</td>\n",
       "    </tr>\n",
       "  </tbody>\n",
       "</table>\n",
       "</div>"
      ],
      "text/plain": [
       "   created_at                 id  \\\n",
       "0  1536899339  17978534839016109   \n",
       "1  1536899816  17964347710106185   \n",
       "2  1536899866  17888244430260360   \n",
       "3  1536900043  17950907089144935   \n",
       "4  1536900050  17881014838264700   \n",
       "\n",
       "                                               owner  \\\n",
       "0  {'id': '144873547', 'profile_pic_url': 'https:...   \n",
       "1  {'id': '1031014256', 'profile_pic_url': 'https...   \n",
       "2  {'id': '194960641', 'profile_pic_url': 'https:...   \n",
       "3  {'id': '3032556430', 'profile_pic_url': 'https...   \n",
       "4  {'id': '3032556430', 'profile_pic_url': 'https...   \n",
       "\n",
       "                                      text  \n",
       "0                             Yes queen ❤️  \n",
       "1  She'd be proud you sing her music well.  \n",
       "2                               Chills!!!!  \n",
       "3                              Queeeeennnn  \n",
       "4                           Singggggg😍😍😍😍😍  "
      ]
     },
     "execution_count": 17,
     "metadata": {},
     "output_type": "execute_result"
    }
   ],
   "source": [
    "comments = insta_comment('iamalicaldwell.json')\n",
    "print('There are', comments.shape[0], 'comments.')\n",
    "comments.head()"
   ]
  },
  {
   "cell_type": "markdown",
   "metadata": {},
   "source": [
    "- The created_at column is in a date format specific to instagram...research how to handle that\n",
    "- Looking at this post now, there are 94 comments...scrape the rest\n",
    "- Probably should drop the owner column and replace with just the id since the user name is not important\n",
    "- Also need to write into the preprocess.py file a function that will extract all these comments and append them to the IG_media dataframe"
   ]
  },
  {
   "cell_type": "markdown",
   "metadata": {},
   "source": [
    "# Getting user id's"
   ]
  },
  {
   "cell_type": "code",
   "execution_count": 21,
   "metadata": {},
   "outputs": [
    {
     "data": {
      "text/plain": [
       "0    {'id': '144873547', 'profile_pic_url': 'https:...\n",
       "1    {'id': '1031014256', 'profile_pic_url': 'https...\n",
       "2    {'id': '194960641', 'profile_pic_url': 'https:...\n",
       "3    {'id': '3032556430', 'profile_pic_url': 'https...\n",
       "4    {'id': '3032556430', 'profile_pic_url': 'https...\n",
       "Name: owner, dtype: object"
      ]
     },
     "execution_count": 21,
     "metadata": {},
     "output_type": "execute_result"
    }
   ],
   "source": [
    "all_users = comments['owner']\n",
    "all_users.head()"
   ]
  },
  {
   "cell_type": "markdown",
   "metadata": {},
   "source": [
    "Another dictionary that will need to be handled in preprocess.py"
   ]
  },
  {
   "cell_type": "code",
   "execution_count": null,
   "metadata": {},
   "outputs": [],
   "source": []
  }
 ],
 "metadata": {
  "kernelspec": {
   "display_name": "Python 3",
   "language": "python",
   "name": "python3"
  },
  "language_info": {
   "codemirror_mode": {
    "name": "ipython",
    "version": 3
   },
   "file_extension": ".py",
   "mimetype": "text/x-python",
   "name": "python",
   "nbconvert_exporter": "python",
   "pygments_lexer": "ipython3",
   "version": "3.6.3"
  }
 },
 "nbformat": 4,
 "nbformat_minor": 2
}
