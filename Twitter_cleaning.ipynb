{
 "cells": [
  {
   "cell_type": "code",
   "execution_count": 1,
   "metadata": {},
   "outputs": [],
   "source": [
    "import pandas as pd\n",
    "import numpy as np\n",
    "import datetime\n",
    "import matplotlib.pyplot as plt\n",
    "import seaborn as sns\n",
    "import re\n",
    "from textblob import TextBlob\n",
    "import tweepy # For Twitter's API\n",
    "import emoji\n",
    "from IPython.display import display"
   ]
  },
  {
   "cell_type": "code",
   "execution_count": 2,
   "metadata": {},
   "outputs": [],
   "source": [
    "import pprint # For \"pretty-printing\" of Python objects -- easier to interprate output \n",
    "pp = pprint.PrettyPrinter() # Create a pprint object"
   ]
  },
  {
   "cell_type": "markdown",
   "metadata": {},
   "source": [
    "Import preprocess.py file which contains defined functions that will load objects and create dataframes.\n",
    "We should add to this file as we unpack these columns from the json"
   ]
  },
  {
   "cell_type": "code",
   "execution_count": 3,
   "metadata": {},
   "outputs": [],
   "source": [
    "from preprocess import tweet_open, extract_emojis"
   ]
  },
  {
   "cell_type": "code",
   "execution_count": 4,
   "metadata": {
    "scrolled": true
   },
   "outputs": [
    {
     "name": "stdout",
     "output_type": "stream",
     "text": [
      "There are 144 tweets in this data frame.\n"
     ]
    }
   ],
   "source": [
    "hash_tags = tweet_open('hash.json')\n",
    "print('There are {} tweets in this data frame.'.format(hash_tags.shape[0]))\n",
    "#hash_tags.to_csv('hash.csv', index=False)"
   ]
  },
  {
   "cell_type": "code",
   "execution_count": 5,
   "metadata": {},
   "outputs": [
    {
     "data": {
      "text/html": [
       "<div>\n",
       "<style>\n",
       "    .dataframe thead tr:only-child th {\n",
       "        text-align: right;\n",
       "    }\n",
       "\n",
       "    .dataframe thead th {\n",
       "        text-align: left;\n",
       "    }\n",
       "\n",
       "    .dataframe tbody tr th {\n",
       "        vertical-align: top;\n",
       "    }\n",
       "</style>\n",
       "<table border=\"1\" class=\"dataframe\">\n",
       "  <thead>\n",
       "    <tr style=\"text-align: right;\">\n",
       "      <th></th>\n",
       "      <th>favoriteCount</th>\n",
       "      <th>hashtags</th>\n",
       "      <th>id</th>\n",
       "      <th>images</th>\n",
       "      <th>isPinned</th>\n",
       "      <th>isReplyTo</th>\n",
       "      <th>isRetweet</th>\n",
       "      <th>quote</th>\n",
       "      <th>replyCount</th>\n",
       "      <th>retweetCount</th>\n",
       "      <th>screenName</th>\n",
       "      <th>text</th>\n",
       "      <th>time</th>\n",
       "      <th>urls</th>\n",
       "      <th>userMentions</th>\n",
       "    </tr>\n",
       "  </thead>\n",
       "  <tbody>\n",
       "    <tr>\n",
       "      <th>0</th>\n",
       "      <td>0</td>\n",
       "      <td>[{'hashtag': 'thefour', 'indices': [70, 78]}, ...</td>\n",
       "      <td>1039682159496364032</td>\n",
       "      <td>[]</td>\n",
       "      <td>False</td>\n",
       "      <td>False</td>\n",
       "      <td>False</td>\n",
       "      <td>NaN</td>\n",
       "      <td>0</td>\n",
       "      <td>0</td>\n",
       "      <td>jariodDAPRINCE</td>\n",
       "      <td>Ali caldwell the performance you forgot way be...</td>\n",
       "      <td>2018-09-12 01:08:37</td>\n",
       "      <td>[{'url': 'subscribehttps://youtu.be/7jy50QIHCC...</td>\n",
       "      <td>[{'screenName': 'alicaldwellfp1', 'indices': [...</td>\n",
       "    </tr>\n",
       "    <tr>\n",
       "      <th>1</th>\n",
       "      <td>2</td>\n",
       "      <td>[]</td>\n",
       "      <td>1039681642783068160</td>\n",
       "      <td>[]</td>\n",
       "      <td>False</td>\n",
       "      <td>False</td>\n",
       "      <td>False</td>\n",
       "      <td>NaN</td>\n",
       "      <td>0</td>\n",
       "      <td>0</td>\n",
       "      <td>AlexisLCal</td>\n",
       "      <td>So the real question is: why do people expect ...</td>\n",
       "      <td>2018-09-12 01:06:34</td>\n",
       "      <td>[]</td>\n",
       "      <td>[]</td>\n",
       "    </tr>\n",
       "    <tr>\n",
       "      <th>2</th>\n",
       "      <td>48</td>\n",
       "      <td>[]</td>\n",
       "      <td>1039653891703496704</td>\n",
       "      <td>[]</td>\n",
       "      <td>False</td>\n",
       "      <td>False</td>\n",
       "      <td>False</td>\n",
       "      <td>{'screenName': 'DeAndreP25', 'id': '1039332878...</td>\n",
       "      <td>5</td>\n",
       "      <td>8</td>\n",
       "      <td>iamAliCaldwell</td>\n",
       "      <td>Omg! YES! Thank you! 🙏🏾  🙌🏾 New music coming s...</td>\n",
       "      <td>2018-09-11 23:16:18</td>\n",
       "      <td>[{'url': 'soonhttps://twitter.com/deandrep25/s...</td>\n",
       "      <td>[]</td>\n",
       "    </tr>\n",
       "    <tr>\n",
       "      <th>3</th>\n",
       "      <td>0</td>\n",
       "      <td>[]</td>\n",
       "      <td>1039609678919942144</td>\n",
       "      <td>[]</td>\n",
       "      <td>False</td>\n",
       "      <td>False</td>\n",
       "      <td>False</td>\n",
       "      <td>NaN</td>\n",
       "      <td>0</td>\n",
       "      <td>0</td>\n",
       "      <td>AlexisLCal</td>\n",
       "      <td>Where was this Spain team for my World Cup bra...</td>\n",
       "      <td>2018-09-11 20:20:37</td>\n",
       "      <td>[]</td>\n",
       "      <td>[]</td>\n",
       "    </tr>\n",
       "    <tr>\n",
       "      <th>4</th>\n",
       "      <td>1</td>\n",
       "      <td>[]</td>\n",
       "      <td>1039607802056962048</td>\n",
       "      <td>[]</td>\n",
       "      <td>False</td>\n",
       "      <td>False</td>\n",
       "      <td>False</td>\n",
       "      <td>NaN</td>\n",
       "      <td>0</td>\n",
       "      <td>0</td>\n",
       "      <td>AlexisLCal</td>\n",
       "      <td>Tag yourself, are you World Cup runner up Croa...</td>\n",
       "      <td>2018-09-11 20:13:09</td>\n",
       "      <td>[]</td>\n",
       "      <td>[]</td>\n",
       "    </tr>\n",
       "  </tbody>\n",
       "</table>\n",
       "</div>"
      ],
      "text/plain": [
       "   favoriteCount                                           hashtags  \\\n",
       "0              0  [{'hashtag': 'thefour', 'indices': [70, 78]}, ...   \n",
       "1              2                                                 []   \n",
       "2             48                                                 []   \n",
       "3              0                                                 []   \n",
       "4              1                                                 []   \n",
       "\n",
       "                    id images  isPinned  isReplyTo  isRetweet  \\\n",
       "0  1039682159496364032     []     False      False      False   \n",
       "1  1039681642783068160     []     False      False      False   \n",
       "2  1039653891703496704     []     False      False      False   \n",
       "3  1039609678919942144     []     False      False      False   \n",
       "4  1039607802056962048     []     False      False      False   \n",
       "\n",
       "                                               quote  replyCount  \\\n",
       "0                                                NaN           0   \n",
       "1                                                NaN           0   \n",
       "2  {'screenName': 'DeAndreP25', 'id': '1039332878...           5   \n",
       "3                                                NaN           0   \n",
       "4                                                NaN           0   \n",
       "\n",
       "   retweetCount      screenName  \\\n",
       "0             0  jariodDAPRINCE   \n",
       "1             0      AlexisLCal   \n",
       "2             8  iamAliCaldwell   \n",
       "3             0      AlexisLCal   \n",
       "4             0      AlexisLCal   \n",
       "\n",
       "                                                text                time  \\\n",
       "0  Ali caldwell the performance you forgot way be... 2018-09-12 01:08:37   \n",
       "1  So the real question is: why do people expect ... 2018-09-12 01:06:34   \n",
       "2  Omg! YES! Thank you! 🙏🏾  🙌🏾 New music coming s... 2018-09-11 23:16:18   \n",
       "3  Where was this Spain team for my World Cup bra... 2018-09-11 20:20:37   \n",
       "4  Tag yourself, are you World Cup runner up Croa... 2018-09-11 20:13:09   \n",
       "\n",
       "                                                urls  \\\n",
       "0  [{'url': 'subscribehttps://youtu.be/7jy50QIHCC...   \n",
       "1                                                 []   \n",
       "2  [{'url': 'soonhttps://twitter.com/deandrep25/s...   \n",
       "3                                                 []   \n",
       "4                                                 []   \n",
       "\n",
       "                                        userMentions  \n",
       "0  [{'screenName': 'alicaldwellfp1', 'indices': [...  \n",
       "1                                                 []  \n",
       "2                                                 []  \n",
       "3                                                 []  \n",
       "4                                                 []  "
      ]
     },
     "execution_count": 5,
     "metadata": {},
     "output_type": "execute_result"
    }
   ],
   "source": [
    "hash_tags.head()"
   ]
  },
  {
   "cell_type": "code",
   "execution_count": 6,
   "metadata": {},
   "outputs": [
    {
     "name": "stdout",
     "output_type": "stream",
     "text": [
      "There are 14270 tweets in this data frame.\n"
     ]
    },
    {
     "data": {
      "text/html": [
       "<div>\n",
       "<style>\n",
       "    .dataframe thead tr:only-child th {\n",
       "        text-align: right;\n",
       "    }\n",
       "\n",
       "    .dataframe thead th {\n",
       "        text-align: left;\n",
       "    }\n",
       "\n",
       "    .dataframe tbody tr th {\n",
       "        vertical-align: top;\n",
       "    }\n",
       "</style>\n",
       "<table border=\"1\" class=\"dataframe\">\n",
       "  <thead>\n",
       "    <tr style=\"text-align: right;\">\n",
       "      <th></th>\n",
       "      <th>fullname</th>\n",
       "      <th>html</th>\n",
       "      <th>id</th>\n",
       "      <th>likes</th>\n",
       "      <th>replies</th>\n",
       "      <th>retweets</th>\n",
       "      <th>text</th>\n",
       "      <th>timestamp</th>\n",
       "      <th>url</th>\n",
       "      <th>user</th>\n",
       "    </tr>\n",
       "  </thead>\n",
       "  <tbody>\n",
       "    <tr>\n",
       "      <th>0</th>\n",
       "      <td>S. Turner</td>\n",
       "      <td>&lt;p class=\"TweetTextSize js-tweet-text tweet-te...</td>\n",
       "      <td>4836685043</td>\n",
       "      <td>0</td>\n",
       "      <td>0</td>\n",
       "      <td>0</td>\n",
       "      <td>@Alison0206 its a boy!!! his name is Polo... I...</td>\n",
       "      <td>2009-10-13 15:04:41</td>\n",
       "      <td>/JustShevy/status/4836685043</td>\n",
       "      <td>JustShevy</td>\n",
       "    </tr>\n",
       "    <tr>\n",
       "      <th>1</th>\n",
       "      <td>Ali</td>\n",
       "      <td>&lt;p class=\"TweetTextSize js-tweet-text tweet-te...</td>\n",
       "      <td>4376497994</td>\n",
       "      <td>0</td>\n",
       "      <td>0</td>\n",
       "      <td>0</td>\n",
       "      <td>Overheard: from season 4, episode 11: Be All M...</td>\n",
       "      <td>2009-09-25 19:48:50</td>\n",
       "      <td>/ali_telford/status/4376497994</td>\n",
       "      <td>ali_telford</td>\n",
       "    </tr>\n",
       "    <tr>\n",
       "      <th>2</th>\n",
       "      <td>Ali</td>\n",
       "      <td>&lt;p class=\"TweetTextSize js-tweet-text tweet-te...</td>\n",
       "      <td>4032762208</td>\n",
       "      <td>0</td>\n",
       "      <td>0</td>\n",
       "      <td>0</td>\n",
       "      <td>Overheard: from season 2, episode 13: Critical...</td>\n",
       "      <td>2009-09-16 16:40:51</td>\n",
       "      <td>/ali_telford/status/4032762208</td>\n",
       "      <td>ali_telford</td>\n",
       "    </tr>\n",
       "    <tr>\n",
       "      <th>3</th>\n",
       "      <td>v klip</td>\n",
       "      <td>&lt;p class=\"TweetTextSize js-tweet-text tweet-te...</td>\n",
       "      <td>2126035456</td>\n",
       "      <td>0</td>\n",
       "      <td>0</td>\n",
       "      <td>0</td>\n",
       "      <td>Obama in Cairo as seen by Hirsi Ali, Paglia an...</td>\n",
       "      <td>2009-06-12 02:52:50</td>\n",
       "      <td>/vklip/status/2126035456</td>\n",
       "      <td>vklip</td>\n",
       "    </tr>\n",
       "    <tr>\n",
       "      <th>4</th>\n",
       "      <td>Radio 4 auto text</td>\n",
       "      <td>&lt;p class=\"TweetTextSize js-tweet-text tweet-te...</td>\n",
       "      <td>1699161882</td>\n",
       "      <td>0</td>\n",
       "      <td>0</td>\n",
       "      <td>0</td>\n",
       "      <td>Start the Week. Andrew Marr's guests are Monic...</td>\n",
       "      <td>2009-05-04 20:30:01</td>\n",
       "      <td>/bbcradio4live/status/1699161882</td>\n",
       "      <td>bbcradio4live</td>\n",
       "    </tr>\n",
       "  </tbody>\n",
       "</table>\n",
       "</div>"
      ],
      "text/plain": [
       "            fullname                                               html  \\\n",
       "0          S. Turner  <p class=\"TweetTextSize js-tweet-text tweet-te...   \n",
       "1                Ali  <p class=\"TweetTextSize js-tweet-text tweet-te...   \n",
       "2                Ali  <p class=\"TweetTextSize js-tweet-text tweet-te...   \n",
       "3             v klip  <p class=\"TweetTextSize js-tweet-text tweet-te...   \n",
       "4  Radio 4 auto text  <p class=\"TweetTextSize js-tweet-text tweet-te...   \n",
       "\n",
       "           id  likes  replies  retweets  \\\n",
       "0  4836685043      0        0         0   \n",
       "1  4376497994      0        0         0   \n",
       "2  4032762208      0        0         0   \n",
       "3  2126035456      0        0         0   \n",
       "4  1699161882      0        0         0   \n",
       "\n",
       "                                                text           timestamp  \\\n",
       "0  @Alison0206 its a boy!!! his name is Polo... I... 2009-10-13 15:04:41   \n",
       "1  Overheard: from season 4, episode 11: Be All M... 2009-09-25 19:48:50   \n",
       "2  Overheard: from season 2, episode 13: Critical... 2009-09-16 16:40:51   \n",
       "3  Obama in Cairo as seen by Hirsi Ali, Paglia an... 2009-06-12 02:52:50   \n",
       "4  Start the Week. Andrew Marr's guests are Monic... 2009-05-04 20:30:01   \n",
       "\n",
       "                                url           user  \n",
       "0      /JustShevy/status/4836685043      JustShevy  \n",
       "1    /ali_telford/status/4376497994    ali_telford  \n",
       "2    /ali_telford/status/4032762208    ali_telford  \n",
       "3          /vklip/status/2126035456          vklip  \n",
       "4  /bbcradio4live/status/1699161882  bbcradio4live  "
      ]
     },
     "execution_count": 6,
     "metadata": {},
     "output_type": "execute_result"
    }
   ],
   "source": [
    "ali_1 = tweet_open('ali_1.json')\n",
    "print('There are {} tweets in this data frame.'.format(ali_1.shape[0]))\n",
    "# ali_1_df.to_csv('ali_1.csv', index=False)\n",
    "ali_1.head()"
   ]
  },
  {
   "cell_type": "code",
   "execution_count": 30,
   "metadata": {},
   "outputs": [
    {
     "name": "stdout",
     "output_type": "stream",
     "text": [
      "There are 7471 tweets in this data frame.\n"
     ]
    }
   ],
   "source": [
    "ali_2 = tweet_open('ali_2.json')\n",
    "print('There are {} tweets in this data frame.'.format(ali_2.shape[0]))\n",
    "# ali_2.to_csv('ali_2.csv', index=False)"
   ]
  },
  {
   "cell_type": "code",
   "execution_count": 32,
   "metadata": {},
   "outputs": [
    {
     "name": "stdout",
     "output_type": "stream",
     "text": [
      "There are 137 tweets in this data frame.\n"
     ]
    }
   ],
   "source": [
    "ali_cadwell = tweet_open('ali_cadwell.json')\n",
    "print('There are {} tweets in this data frame.'.format(ali_cadwell.shape[0]))\n",
    "# ali_cadwell.to_csv('ali_cadwell.csv', index=False)"
   ]
  },
  {
   "cell_type": "code",
   "execution_count": 33,
   "metadata": {},
   "outputs": [
    {
     "name": "stdout",
     "output_type": "stream",
     "text": [
      "There are 33616 tweets in this data frame.\n"
     ]
    }
   ],
   "source": [
    "ali_mentions = tweet_open('ali_mentions.json')\n",
    "print('There are {} tweets in this data frame.'.format(ali_mentions.shape[0]))\n",
    "# ali_mentions.to_csv('ali_mentions.csv', index=False)"
   ]
  },
  {
   "cell_type": "code",
   "execution_count": 35,
   "metadata": {},
   "outputs": [
    {
     "name": "stdout",
     "output_type": "stream",
     "text": [
      "There are 5113 tweets in this data frame.\n"
     ]
    }
   ],
   "source": [
    "mention_df = tweet_open('mention.json')\n",
    "print('There are {} tweets in this data frame.'.format(mention_df.shape[0]))\n",
    "# mention_df.to_csv('mention.csv', index=False)"
   ]
  },
  {
   "cell_type": "code",
   "execution_count": 36,
   "metadata": {},
   "outputs": [
    {
     "name": "stdout",
     "output_type": "stream",
     "text": [
      "There are 683 tweets in this data frame.\n"
     ]
    }
   ],
   "source": [
    "test = tweet_open('test.json')\n",
    "print('There are {} tweets in this data frame.'.format(test.shape[0]))\n",
    "# test.to_csv('test.csv', index=False)"
   ]
  },
  {
   "cell_type": "code",
   "execution_count": 37,
   "metadata": {},
   "outputs": [
    {
     "name": "stdout",
     "output_type": "stream",
     "text": [
      "There are 6221 tweets in this data frame.\n"
     ]
    }
   ],
   "source": [
    "testing = tweet_open('testing.json')\n",
    "print('There are {} tweets in this data frame.'.format(testing.shape[0]))\n",
    "# testing.to_csv('testing.csv', index=False)"
   ]
  },
  {
   "cell_type": "code",
   "execution_count": 72,
   "metadata": {},
   "outputs": [
    {
     "name": "stdout",
     "output_type": "stream",
     "text": [
      "['likes', 'html', 'timestamp', 'replies', 'retweets', 'url', 'text', 'user', 'fullname', 'id'] \n",
      "\n",
      " ['quote', 'retweetCount', 'favoriteCount', 'userMentions', 'screenName', 'replyCount', 'isReplyTo', 'urls', 'text', 'time', 'isRetweet', 'isPinned', 'hashtags', 'images', 'id']\n"
     ]
    }
   ],
   "source": [
    "DFs = [testing, test, mention_df, ali_mentions, ali_cadwell, ali_2, ali_1, hash_tags]\n",
    "DF_cols = list(np.unique(np.array([list(set(df.columns)) for df in DFs])))\n",
    "print(DF_cols[0], '\\n\\n', DF_cols[1])"
   ]
  },
  {
   "cell_type": "markdown",
   "metadata": {},
   "source": [
    "Using two different twitter scraper, we get two different sets of columns."
   ]
  },
  {
   "cell_type": "code",
   "execution_count": 84,
   "metadata": {},
   "outputs": [
    {
     "data": {
      "text/html": [
       "<div>\n",
       "<style>\n",
       "    .dataframe thead tr:only-child th {\n",
       "        text-align: right;\n",
       "    }\n",
       "\n",
       "    .dataframe thead th {\n",
       "        text-align: left;\n",
       "    }\n",
       "\n",
       "    .dataframe tbody tr th {\n",
       "        vertical-align: top;\n",
       "    }\n",
       "</style>\n",
       "<table border=\"1\" class=\"dataframe\">\n",
       "  <thead>\n",
       "    <tr style=\"text-align: right;\">\n",
       "      <th></th>\n",
       "      <th>fullname</th>\n",
       "      <th>html</th>\n",
       "      <th>id</th>\n",
       "      <th>likes</th>\n",
       "      <th>replies</th>\n",
       "      <th>retweets</th>\n",
       "      <th>text</th>\n",
       "      <th>timestamp</th>\n",
       "      <th>url</th>\n",
       "      <th>user</th>\n",
       "    </tr>\n",
       "  </thead>\n",
       "  <tbody>\n",
       "    <tr>\n",
       "      <th>0</th>\n",
       "      <td>Shaun</td>\n",
       "      <td>&lt;p class=\"TweetTextSize js-tweet-text tweet-te...</td>\n",
       "      <td>296691362802311168</td>\n",
       "      <td>0</td>\n",
       "      <td>0</td>\n",
       "      <td>5</td>\n",
       "      <td>Wigan team to face soton Ali,caldwell,scharner...</td>\n",
       "      <td>2013-01-30 18:48:27</td>\n",
       "      <td>/SG191189/status/296691362802311168</td>\n",
       "      <td>SG191189</td>\n",
       "    </tr>\n",
       "    <tr>\n",
       "      <th>1</th>\n",
       "      <td>CWorly</td>\n",
       "      <td>&lt;p class=\"TweetTextSize js-tweet-text tweet-te...</td>\n",
       "      <td>292913445442039808</td>\n",
       "      <td>0</td>\n",
       "      <td>2</td>\n",
       "      <td>0</td>\n",
       "      <td>@tonywelsby yes. Sunderland pressuring us didn...</td>\n",
       "      <td>2013-01-20 08:36:22</td>\n",
       "      <td>/Worly82/status/292913445442039808</td>\n",
       "      <td>Worly82</td>\n",
       "    </tr>\n",
       "    <tr>\n",
       "      <th>2</th>\n",
       "      <td>Emily Howlett</td>\n",
       "      <td>&lt;p class=\"TweetTextSize js-tweet-text tweet-te...</td>\n",
       "      <td>290668815791042560</td>\n",
       "      <td>0</td>\n",
       "      <td>0</td>\n",
       "      <td>0</td>\n",
       "      <td>I posted 9 photos on Facebook in the album \"Al...</td>\n",
       "      <td>2013-01-14 03:57:00</td>\n",
       "      <td>/emareehowlett/status/290668815791042560</td>\n",
       "      <td>emareehowlett</td>\n",
       "    </tr>\n",
       "    <tr>\n",
       "      <th>3</th>\n",
       "      <td>VimeoGirls.tv</td>\n",
       "      <td>&lt;p class=\"TweetTextSize js-tweet-text tweet-te...</td>\n",
       "      <td>278259090919137280</td>\n",
       "      <td>0</td>\n",
       "      <td>0</td>\n",
       "      <td>0</td>\n",
       "      <td>'I wanted to be found' - Ali Caldwell http://d...</td>\n",
       "      <td>2012-12-10 22:05:11</td>\n",
       "      <td>/VimeoGirls_tv/status/278259090919137282</td>\n",
       "      <td>VimeoGirls_tv</td>\n",
       "    </tr>\n",
       "    <tr>\n",
       "      <th>4</th>\n",
       "      <td>avalon1982</td>\n",
       "      <td>&lt;p class=\"TweetTextSize js-tweet-text tweet-te...</td>\n",
       "      <td>270023547274027008</td>\n",
       "      <td>0</td>\n",
       "      <td>0</td>\n",
       "      <td>0</td>\n",
       "      <td>'I wanted to be found' - Ali Caldwell (by Vivi...</td>\n",
       "      <td>2012-11-18 04:40:05</td>\n",
       "      <td>/avalon1982/status/270023547274027009</td>\n",
       "      <td>avalon1982</td>\n",
       "    </tr>\n",
       "  </tbody>\n",
       "</table>\n",
       "</div>"
      ],
      "text/plain": [
       "        fullname                                               html  \\\n",
       "0          Shaun  <p class=\"TweetTextSize js-tweet-text tweet-te...   \n",
       "1         CWorly  <p class=\"TweetTextSize js-tweet-text tweet-te...   \n",
       "2  Emily Howlett  <p class=\"TweetTextSize js-tweet-text tweet-te...   \n",
       "3  VimeoGirls.tv  <p class=\"TweetTextSize js-tweet-text tweet-te...   \n",
       "4     avalon1982  <p class=\"TweetTextSize js-tweet-text tweet-te...   \n",
       "\n",
       "                   id  likes  replies  retweets  \\\n",
       "0  296691362802311168      0        0         5   \n",
       "1  292913445442039808      0        2         0   \n",
       "2  290668815791042560      0        0         0   \n",
       "3  278259090919137280      0        0         0   \n",
       "4  270023547274027008      0        0         0   \n",
       "\n",
       "                                                text           timestamp  \\\n",
       "0  Wigan team to face soton Ali,caldwell,scharner... 2013-01-30 18:48:27   \n",
       "1  @tonywelsby yes. Sunderland pressuring us didn... 2013-01-20 08:36:22   \n",
       "2  I posted 9 photos on Facebook in the album \"Al... 2013-01-14 03:57:00   \n",
       "3  'I wanted to be found' - Ali Caldwell http://d... 2012-12-10 22:05:11   \n",
       "4  'I wanted to be found' - Ali Caldwell (by Vivi... 2012-11-18 04:40:05   \n",
       "\n",
       "                                        url           user  \n",
       "0       /SG191189/status/296691362802311168       SG191189  \n",
       "1        /Worly82/status/292913445442039808        Worly82  \n",
       "2  /emareehowlett/status/290668815791042560  emareehowlett  \n",
       "3  /VimeoGirls_tv/status/278259090919137282  VimeoGirls_tv  \n",
       "4     /avalon1982/status/270023547274027009     avalon1982  "
      ]
     },
     "execution_count": 84,
     "metadata": {},
     "output_type": "execute_result"
    }
   ],
   "source": [
    "testing.head()"
   ]
  },
  {
   "cell_type": "code",
   "execution_count": 85,
   "metadata": {},
   "outputs": [
    {
     "data": {
      "text/html": [
       "<div>\n",
       "<style>\n",
       "    .dataframe thead tr:only-child th {\n",
       "        text-align: right;\n",
       "    }\n",
       "\n",
       "    .dataframe thead th {\n",
       "        text-align: left;\n",
       "    }\n",
       "\n",
       "    .dataframe tbody tr th {\n",
       "        vertical-align: top;\n",
       "    }\n",
       "</style>\n",
       "<table border=\"1\" class=\"dataframe\">\n",
       "  <thead>\n",
       "    <tr style=\"text-align: right;\">\n",
       "      <th></th>\n",
       "      <th>favoriteCount</th>\n",
       "      <th>hashtags</th>\n",
       "      <th>id</th>\n",
       "      <th>images</th>\n",
       "      <th>isPinned</th>\n",
       "      <th>isReplyTo</th>\n",
       "      <th>isRetweet</th>\n",
       "      <th>quote</th>\n",
       "      <th>replyCount</th>\n",
       "      <th>retweetCount</th>\n",
       "      <th>screenName</th>\n",
       "      <th>text</th>\n",
       "      <th>time</th>\n",
       "      <th>urls</th>\n",
       "      <th>userMentions</th>\n",
       "    </tr>\n",
       "  </thead>\n",
       "  <tbody>\n",
       "    <tr>\n",
       "      <th>0</th>\n",
       "      <td>45</td>\n",
       "      <td>[]</td>\n",
       "      <td>1039653891703496704</td>\n",
       "      <td>[]</td>\n",
       "      <td>False</td>\n",
       "      <td>False</td>\n",
       "      <td>False</td>\n",
       "      <td>{'screenName': 'DeAndreP25', 'id': '1039332878...</td>\n",
       "      <td>5</td>\n",
       "      <td>8</td>\n",
       "      <td>iamAliCaldwell</td>\n",
       "      <td>Omg! YES! Thank you! 🙏🏾  🙌🏾 New music coming s...</td>\n",
       "      <td>2018-09-11 23:16:18</td>\n",
       "      <td>[{'url': 'soonhttps://twitter.com/deandrep25/s...</td>\n",
       "      <td>[]</td>\n",
       "    </tr>\n",
       "    <tr>\n",
       "      <th>1</th>\n",
       "      <td>107</td>\n",
       "      <td>[]</td>\n",
       "      <td>1038185566679060480</td>\n",
       "      <td>[]</td>\n",
       "      <td>False</td>\n",
       "      <td>False</td>\n",
       "      <td>False</td>\n",
       "      <td>NaN</td>\n",
       "      <td>4</td>\n",
       "      <td>33</td>\n",
       "      <td>iamAliCaldwell</td>\n",
       "      <td>You never know what someone is going through! ...</td>\n",
       "      <td>2018-09-07 22:01:42</td>\n",
       "      <td>[]</td>\n",
       "      <td>[]</td>\n",
       "    </tr>\n",
       "    <tr>\n",
       "      <th>2</th>\n",
       "      <td>96</td>\n",
       "      <td>[]</td>\n",
       "      <td>1038185095818043392</td>\n",
       "      <td>[]</td>\n",
       "      <td>False</td>\n",
       "      <td>False</td>\n",
       "      <td>False</td>\n",
       "      <td>NaN</td>\n",
       "      <td>0</td>\n",
       "      <td>20</td>\n",
       "      <td>iamAliCaldwell</td>\n",
       "      <td>Mannnnn another young soul gone from drug over...</td>\n",
       "      <td>2018-09-07 21:59:50</td>\n",
       "      <td>[]</td>\n",
       "      <td>[]</td>\n",
       "    </tr>\n",
       "    <tr>\n",
       "      <th>3</th>\n",
       "      <td>9</td>\n",
       "      <td>[]</td>\n",
       "      <td>1037786580549873664</td>\n",
       "      <td>[]</td>\n",
       "      <td>False</td>\n",
       "      <td>False</td>\n",
       "      <td>False</td>\n",
       "      <td>NaN</td>\n",
       "      <td>1</td>\n",
       "      <td>1</td>\n",
       "      <td>iamAliCaldwell</td>\n",
       "      <td>Excited 🤗</td>\n",
       "      <td>2018-09-06 19:36:16</td>\n",
       "      <td>[]</td>\n",
       "      <td>[]</td>\n",
       "    </tr>\n",
       "    <tr>\n",
       "      <th>4</th>\n",
       "      <td>64</td>\n",
       "      <td>[]</td>\n",
       "      <td>1037786304438775808</td>\n",
       "      <td>[]</td>\n",
       "      <td>False</td>\n",
       "      <td>False</td>\n",
       "      <td>False</td>\n",
       "      <td>NaN</td>\n",
       "      <td>3</td>\n",
       "      <td>4</td>\n",
       "      <td>iamAliCaldwell</td>\n",
       "      <td>Shooting a commercial tomorrow! Can’t wait to ...</td>\n",
       "      <td>2018-09-06 19:35:10</td>\n",
       "      <td>[]</td>\n",
       "      <td>[]</td>\n",
       "    </tr>\n",
       "  </tbody>\n",
       "</table>\n",
       "</div>"
      ],
      "text/plain": [
       "   favoriteCount hashtags                   id images  isPinned  isReplyTo  \\\n",
       "0             45       []  1039653891703496704     []     False      False   \n",
       "1            107       []  1038185566679060480     []     False      False   \n",
       "2             96       []  1038185095818043392     []     False      False   \n",
       "3              9       []  1037786580549873664     []     False      False   \n",
       "4             64       []  1037786304438775808     []     False      False   \n",
       "\n",
       "   isRetweet                                              quote  replyCount  \\\n",
       "0      False  {'screenName': 'DeAndreP25', 'id': '1039332878...           5   \n",
       "1      False                                                NaN           4   \n",
       "2      False                                                NaN           0   \n",
       "3      False                                                NaN           1   \n",
       "4      False                                                NaN           3   \n",
       "\n",
       "   retweetCount      screenName  \\\n",
       "0             8  iamAliCaldwell   \n",
       "1            33  iamAliCaldwell   \n",
       "2            20  iamAliCaldwell   \n",
       "3             1  iamAliCaldwell   \n",
       "4             4  iamAliCaldwell   \n",
       "\n",
       "                                                text                time  \\\n",
       "0  Omg! YES! Thank you! 🙏🏾  🙌🏾 New music coming s... 2018-09-11 23:16:18   \n",
       "1  You never know what someone is going through! ... 2018-09-07 22:01:42   \n",
       "2  Mannnnn another young soul gone from drug over... 2018-09-07 21:59:50   \n",
       "3                                          Excited 🤗 2018-09-06 19:36:16   \n",
       "4  Shooting a commercial tomorrow! Can’t wait to ... 2018-09-06 19:35:10   \n",
       "\n",
       "                                                urls userMentions  \n",
       "0  [{'url': 'soonhttps://twitter.com/deandrep25/s...           []  \n",
       "1                                                 []           []  \n",
       "2                                                 []           []  \n",
       "3                                                 []           []  \n",
       "4                                                 []           []  "
      ]
     },
     "execution_count": 85,
     "metadata": {},
     "output_type": "execute_result"
    }
   ],
   "source": [
    "test.head() # Not necessary: images, "
   ]
  },
  {
   "cell_type": "markdown",
   "metadata": {},
   "source": [
    "# Create a Twitter App\n",
    "All cells from here up to 'Creating a Dataframe of tweets' is only for experimenting with Twitter API, which is very limiting in terms of\n",
    "- amount of requests\n",
    "- price to get FullArchive\n",
    "- difficult to understand endpoints and usage of operators\n",
    "\n",
    "***Do not run these cells...they won't work***"
   ]
  },
  {
   "cell_type": "code",
   "execution_count": 100,
   "metadata": {},
   "outputs": [],
   "source": [
    "from credentials import *"
   ]
  },
  {
   "cell_type": "code",
   "execution_count": 5,
   "metadata": {},
   "outputs": [],
   "source": [
    "# API's setup\n",
    "def twitter_setup():\n",
    "    \"\"\"\n",
    "    Utility function to setup the Twitter's API\n",
    "    with access keys provided.\n",
    "    \"\"\"\n",
    "    \n",
    "    # Authentication and access using keys:\n",
    "    auth = tweepy.OAuthHandler(CONSUMER_KEY, CONSUMER_SECRET)\n",
    "    auth.set_access_token(ACCESS_TOKEN, ACCESS_SECRET)\n",
    "    \n",
    "    # Return API with authentication:\n",
    "    api = tweepy.API(auth)\n",
    "    return api"
   ]
  },
  {
   "cell_type": "markdown",
   "metadata": {},
   "source": [
    "# Tweets Extraction"
   ]
  },
  {
   "cell_type": "code",
   "execution_count": 7,
   "metadata": {},
   "outputs": [
    {
     "name": "stdout",
     "output_type": "stream",
     "text": [
      "Number of tweets extracted: 200\n"
     ]
    }
   ],
   "source": [
    "# Create an extractor object:\n",
    "extractor = twitter_setup()\n",
    "\n",
    "# Create a tweet list as follows:\n",
    "screen_name = \"iAmAliCaldwell\"\n",
    "count = 200\n",
    "tweets = extractor.user_timeline(screen_name=screen_name, count=count)\n",
    "print(\"Number of tweets extracted: {}\".format(len(tweets)))"
   ]
  },
  {
   "cell_type": "code",
   "execution_count": 253,
   "metadata": {},
   "outputs": [
    {
     "name": "stdout",
     "output_type": "stream",
     "text": [
      "2018-09-14 11:31:01 Aretha Franklin - Natural Woman - (singer Ali Caldwell &amp; Andre Sims Tribute) https://t.co/UXHD9WyHsr via @YouTube #NewMusic\n",
      "2018-09-14 07:34:41 The trend is your friend? https://t.co/jhkSroCt6O foxtv, fergie, dj khaled, diddy, meghan trainor, the four, the fo… https://t.co/xVyzNLXRN7\n",
      "2018-09-14 07:30:43 New trending GIF tagged foxtv, fergie, dj khaled, diddy, meghan trainor, the four, the four on fox, james graham, s… https://t.co/Q7Rg1RLl4S\n",
      "2018-09-14 07:23:37 RT @iamAliCaldwell: Aretha Franklin - Natural Woman - (Ali Caldwell &amp; Andre Sims Tribute): https://t.co/d2AgSCwHt9 via @YouTube\n",
      "2018-09-14 04:04:59 Aretha Franklin - Natural Woman - (Ali Caldwell &amp; Andre Sims Tribute) https://t.co/SPzcGhPXMT via @YouTube @iamAliCaldwell 🎶🎤\n",
      "2018-09-14 01:13:39 This sister is truly gifted! If you’re an Ali Caldwell fan, check out her tribute to The Queen of Soul, Aretha Fran… https://t.co/qYKpjbacN6\n",
      "2018-09-14 01:12:44 I liked a @YouTube video https://t.co/PBnD1ajzzM Aretha Franklin - Natural Woman - (Ali Caldwell &amp; Andre Sims Tribute)\n",
      "2018-09-14 00:54:32 I added a video to a @YouTube playlist https://t.co/McIjhqUvOB Aretha Franklin - Natural Woman - (Ali Caldwell &amp; Andre Sims Tribute)\n",
      "2018-09-14 00:50:56 RT @iamAliCaldwell: Aretha Franklin - Natural Woman - (Ali Caldwell &amp; Andre Sims Tribute): https://t.co/d2AgSCwHt9 via @YouTube\n",
      "2018-09-14 00:46:27 RT @iamAliCaldwell: Aretha Franklin - Natural Woman - (Ali Caldwell &amp; Andre Sims Tribute): https://t.co/d2AgSCwHt9 via @YouTube\n",
      "2018-09-14 00:44:27 RT @iamAliCaldwell: Aretha Franklin - Natural Woman - (Ali Caldwell &amp; Andre Sims Tribute): https://t.co/d2AgSCwHt9 via @YouTube\n",
      "2018-09-14 00:41:18 RT @iamAliCaldwell: Aretha Franklin - Natural Woman - (Ali Caldwell &amp; Andre Sims Tribute): https://t.co/d2AgSCwHt9 via @YouTube\n",
      "2018-09-14 00:40:58 RT @iamAliCaldwell: Aretha Franklin - Natural Woman - (Ali Caldwell &amp; Andre Sims Tribute): https://t.co/d2AgSCwHt9 via @YouTube\n",
      "2018-09-14 00:40:20 RT @iamAliCaldwell: Aretha Franklin - Natural Woman - (Ali Caldwell &amp; Andre Sims Tribute): https://t.co/d2AgSCwHt9 via @YouTube\n",
      "2018-09-14 00:40:06 Aretha Franklin - Natural Woman - (Ali Caldwell &amp; Andre Sims Tribute): https://t.co/d2AgSCwHt9 via @YouTube\n",
      "2018-09-13 00:58:39 Ali caldwell https://t.co/yie1zLfFwR\n",
      "2018-09-12 01:08:37 Ali caldwell the performance you forgot way better than whitney reign #thefour @alicaldwellfp1 #youtube #subscribe  https://t.co/yie1zLfFwR\n",
      "2018-09-11 23:01:22 Ali Caldwell was definitely ROBBED and deserved to win The Four season 2. BEST VOCALS HANDS DOWN. PERIOD. James is… https://t.co/8qiuqoAuFs\n",
      "2018-09-11 19:16:13 I liked a @YouTube video https://t.co/AWWf8P6iSK Ali Caldwell Performs \"Somebody Loves You Baby\" | Season 2 Ep. 5 | THE FOUR\n",
      "2018-09-11 17:58:54 I added a video to a @YouTube playlist https://t.co/ELA0GeOK0V Whitney Reign vs Ali Caldwell: The TOUGHEST Battle Decision | S2E7 |\n",
      "2018-09-11 11:18:08 I liked a @YouTube video https://t.co/vunkzeRSCQ ALI CALDWELL THE PERFORMANCE YOU FORGOT | ALI CALDWELL THE FOUR AUDITIONS | AFTW KING\n",
      "2018-09-11 04:37:00 i love watching the four. ali caldwell can sing her ass off!\n",
      "2018-09-11 01:33:44 ALI CALDWELL THE PERFORMANCE YOU FORGOT | ALI CALDWELL THE FOUR AUDITIONS | AFTW KING REACTS: https://t.co/vunkzeRSCQ via @YouTube\n",
      "2018-09-10 22:47:52 The more I rewatch “The Four”, season 2, The more I feel that Ali Caldwell was robbed. #alicaldwell #thefour… https://t.co/nH8NWXfPhB\n",
      "2018-09-10 03:02:58 Murilo's Top 5 artists this week: Ali Caldwell (39), Eveline Vroonland (32), Kelly Clarkson (22), Jamila Woods (17), Arlissa (6) #jotafm\n",
      "2018-09-08 20:19:23 I added a video to a @YouTube playlist https://t.co/rNPypfUDX7 Whitney Reign vs Ali Caldwell: The TOUGHEST Battle Decision | S2E7 |\n",
      "2018-09-08 09:43:00 Defffff not all that another Justin Timberlake tbh we already have one of those!!!!!! ALI CALDWELL should’ve won IJS https://t.co/hEq4tZew48\n",
      "2018-09-07 21:10:37 RT @marajpierce: I liked a @YouTube video https://t.co/yxyKpQqo8t Ali Caldwell Performs \"No More Drama\" | Season 2 Ep. 6 | THE FOUR\n",
      "2018-09-07 21:00:35 I liked a @YouTube video https://t.co/yxyKpQqo8t Ali Caldwell Performs \"No More Drama\" | Season 2 Ep. 6 | THE FOUR\n",
      "2018-09-06 22:08:17 Ali Caldwell Lifestyle*Net Worth*Spouse*Fame*About*House*Family Detail In 2018 https://t.co/On6TMa8NPg https://t.co/vjmXdCDanz\n",
      "2018-09-05 10:35:25 RT @httpsrealitys: Nada vai superar Ali Caldwell cantando Dangerous Woman no The Voice. WHAT A VOCALS, WHAT A WOMAN!!! #TheVoiceBrasil http…\n",
      "2018-09-05 10:02:29 RT @httpsrealitys: Nada vai superar Ali Caldwell cantando Dangerous Woman no The Voice. WHAT A VOCALS, WHAT A WOMAN!!! #TheVoiceBrasil http…\n",
      "2018-09-05 03:56:29 RT @httpsrealitys: Nada vai superar Ali Caldwell cantando Dangerous Woman no The Voice. WHAT A VOCALS, WHAT A WOMAN!!! #TheVoiceBrasil http…\n",
      "2018-09-05 02:33:53 RT @httpsrealitys: Nada vai superar Ali Caldwell cantando Dangerous Woman no The Voice. WHAT A VOCALS, WHAT A WOMAN!!! #TheVoiceBrasil http…\n",
      "2018-09-05 02:32:50 RT @httpsrealitys: Nada vai superar Ali Caldwell cantando Dangerous Woman no The Voice. WHAT A VOCALS, WHAT A WOMAN!!! #TheVoiceBrasil http…\n",
      "2018-09-05 02:32:09 RT @httpsrealitys: Nada vai superar Ali Caldwell cantando Dangerous Woman no The Voice. WHAT A VOCALS, WHAT A WOMAN!!! #TheVoiceBrasil http…\n",
      "2018-09-05 02:30:45 RT @httpsrealitys: Nada vai superar Ali Caldwell cantando Dangerous Woman no The Voice. WHAT A VOCALS, WHAT A WOMAN!!! #TheVoiceBrasil http…\n",
      "2018-09-05 02:23:04 RT @httpsrealitys: Nada vai superar Ali Caldwell cantando Dangerous Woman no The Voice. WHAT A VOCALS, WHAT A WOMAN!!! #TheVoiceBrasil http…\n",
      "2018-09-05 02:21:30 RT @httpsrealitys: Nada vai superar Ali Caldwell cantando Dangerous Woman no The Voice. WHAT A VOCALS, WHAT A WOMAN!!! #TheVoiceBrasil http…\n",
      "2018-09-05 02:21:27 RT @httpsrealitys: Nada vai superar Ali Caldwell cantando Dangerous Woman no The Voice. WHAT A VOCALS, WHAT A WOMAN!!! #TheVoiceBrasil http…\n",
      "2018-09-05 02:19:39 Nada vai superar Ali Caldwell cantando Dangerous Woman no The Voice. WHAT A VOCALS, WHAT A WOMAN!!! #TheVoiceBrasil https://t.co/HHINT7VTdk\n",
      "2018-09-04 02:16:45 I love Ali Caldwell’s voice.\n"
     ]
    }
   ],
   "source": [
    "tweets_test2 = []\n",
    "for tweet in tweepy.Cursor(extractor.search,\n",
    "                           q=query,\n",
    "                           count=200,\n",
    "#                            result_type=\"recent\",\n",
    "                           include_entities=True,\n",
    "                           lang=\"en\").items():\n",
    "    print(tweet.created_at, tweet.text, tweet.)\n",
    "    tweets_test2.append(tweet)"
   ]
  },
  {
   "cell_type": "code",
   "execution_count": 241,
   "metadata": {},
   "outputs": [],
   "source": [
    "query = '\"ali caldwell\" OR #alicaldwell since:2010-01-01'\n",
    "tweets_2 = extractor.search(q=query)"
   ]
  },
  {
   "cell_type": "code",
   "execution_count": 249,
   "metadata": {},
   "outputs": [
    {
     "name": "stdout",
     "output_type": "stream",
     "text": [
      "2018-09-14 11:31:01 \n",
      " Aretha Franklin - Natural Woman - (singer Ali Caldwell &amp; Andre Sims Tribute) https://t.co/UXHD9WyHsr via @YouTube #NewMusic\n",
      "\n",
      "2018-09-14 07:34:41 \n",
      " The trend is your friend? https://t.co/jhkSroCt6O foxtv, fergie, dj khaled, diddy, meghan trainor, the four, the fo… https://t.co/xVyzNLXRN7\n",
      "\n",
      "2018-09-14 07:30:43 \n",
      " New trending GIF tagged foxtv, fergie, dj khaled, diddy, meghan trainor, the four, the four on fox, james graham, s… https://t.co/Q7Rg1RLl4S\n",
      "\n",
      "2018-09-14 07:23:37 \n",
      " RT @iamAliCaldwell: Aretha Franklin - Natural Woman - (Ali Caldwell &amp; Andre Sims Tribute): https://t.co/d2AgSCwHt9 via @YouTube\n",
      "\n",
      "2018-09-14 04:04:59 \n",
      " Aretha Franklin - Natural Woman - (Ali Caldwell &amp; Andre Sims Tribute) https://t.co/SPzcGhPXMT via @YouTube @iamAliCaldwell 🎶🎤\n",
      "\n",
      "2018-09-14 01:13:39 \n",
      " This sister is truly gifted! If you’re an Ali Caldwell fan, check out her tribute to The Queen of Soul, Aretha Fran… https://t.co/qYKpjbacN6\n",
      "\n",
      "2018-09-14 01:12:44 \n",
      " I liked a @YouTube video https://t.co/PBnD1ajzzM Aretha Franklin - Natural Woman - (Ali Caldwell &amp; Andre Sims Tribute)\n",
      "\n",
      "2018-09-14 00:54:32 \n",
      " I added a video to a @YouTube playlist https://t.co/McIjhqUvOB Aretha Franklin - Natural Woman - (Ali Caldwell &amp; Andre Sims Tribute)\n",
      "\n",
      "2018-09-14 00:50:56 \n",
      " RT @iamAliCaldwell: Aretha Franklin - Natural Woman - (Ali Caldwell &amp; Andre Sims Tribute): https://t.co/d2AgSCwHt9 via @YouTube\n",
      "\n",
      "2018-09-14 00:46:27 \n",
      " RT @iamAliCaldwell: Aretha Franklin - Natural Woman - (Ali Caldwell &amp; Andre Sims Tribute): https://t.co/d2AgSCwHt9 via @YouTube\n",
      "\n",
      "2018-09-14 00:44:27 \n",
      " RT @iamAliCaldwell: Aretha Franklin - Natural Woman - (Ali Caldwell &amp; Andre Sims Tribute): https://t.co/d2AgSCwHt9 via @YouTube\n",
      "\n",
      "2018-09-14 00:41:18 \n",
      " RT @iamAliCaldwell: Aretha Franklin - Natural Woman - (Ali Caldwell &amp; Andre Sims Tribute): https://t.co/d2AgSCwHt9 via @YouTube\n",
      "\n",
      "2018-09-14 00:40:58 \n",
      " RT @iamAliCaldwell: Aretha Franklin - Natural Woman - (Ali Caldwell &amp; Andre Sims Tribute): https://t.co/d2AgSCwHt9 via @YouTube\n",
      "\n",
      "2018-09-14 00:40:20 \n",
      " RT @iamAliCaldwell: Aretha Franklin - Natural Woman - (Ali Caldwell &amp; Andre Sims Tribute): https://t.co/d2AgSCwHt9 via @YouTube\n",
      "\n",
      "2018-09-14 00:40:06 \n",
      " Aretha Franklin - Natural Woman - (Ali Caldwell &amp; Andre Sims Tribute): https://t.co/d2AgSCwHt9 via @YouTube\n",
      "\n"
     ]
    }
   ],
   "source": [
    "for tweet in tweets_2:\n",
    "    print(tweet.created_at, \"\\n\", tweet.)\n",
    "    print()"
   ]
  },
  {
   "cell_type": "markdown",
   "metadata": {},
   "source": [
    "Note: each element in the tweets list is a tweet object from Tweepy"
   ]
  },
  {
   "cell_type": "code",
   "execution_count": 205,
   "metadata": {},
   "outputs": [
    {
     "name": "stdout",
     "output_type": "stream",
     "text": [
      "5 recent tweets: \n",
      "\n",
      "2018-09-14 01:08:41 \n",
      " R.I.P Queen👑 @ArethaFranklin \n",
      "😥❤❤❤❤❤\n",
      "https://t.co/rb8OAN4mco\n",
      "\n",
      "2018-09-14 00:40:06 \n",
      " Aretha Franklin - Natural Woman - (Ali Caldwell &amp; Andre Sims Tribute): https://t.co/d2AgSCwHt9 via @YouTube\n",
      "\n",
      "2018-09-11 23:16:18 \n",
      " Omg! YES! Thank you! 🙏🏾  🙌🏾 New music coming soon❤️ https://t.co/riQZl7YASp\n",
      "\n",
      "2018-09-07 22:01:42 \n",
      " You never know what someone is going through! \n",
      "\n",
      "BE KIND!\n",
      "Love MORE!\n",
      "You just NEVER KNOW!\n",
      "\n",
      "2018-09-07 21:59:50 \n",
      " Mannnnn another young soul gone from drug overdose... so sad! 😢 Reading his last tweets got me so emotional! 🙏🏾 Pra… https://t.co/M6gecmcZRY\n",
      "\n"
     ]
    }
   ],
   "source": [
    "# Print the most recent 5 tweets:\n",
    "print(\"5 recent tweets: \\n\")\n",
    "for tweet in tweets[:5]:\n",
    "    print(tweet.created_at, \"\\n\", tweet.text)\n",
    "    print()"
   ]
  },
  {
   "cell_type": "code",
   "execution_count": 210,
   "metadata": {
    "scrolled": false
   },
   "outputs": [
    {
     "data": {
      "text/html": [
       "<div>\n",
       "<style>\n",
       "    .dataframe thead tr:only-child th {\n",
       "        text-align: right;\n",
       "    }\n",
       "\n",
       "    .dataframe thead th {\n",
       "        text-align: left;\n",
       "    }\n",
       "\n",
       "    .dataframe tbody tr th {\n",
       "        vertical-align: top;\n",
       "    }\n",
       "</style>\n",
       "<table border=\"1\" class=\"dataframe\">\n",
       "  <thead>\n",
       "    <tr style=\"text-align: right;\">\n",
       "      <th></th>\n",
       "      <th>Tweets</th>\n",
       "    </tr>\n",
       "  </thead>\n",
       "  <tbody>\n",
       "    <tr>\n",
       "      <th>0</th>\n",
       "      <td>R.I.P Queen👑 @ArethaFranklin \\n😥❤❤❤❤❤\\nhttps:/...</td>\n",
       "    </tr>\n",
       "    <tr>\n",
       "      <th>1</th>\n",
       "      <td>Aretha Franklin - Natural Woman - (Ali Caldwel...</td>\n",
       "    </tr>\n",
       "    <tr>\n",
       "      <th>2</th>\n",
       "      <td>Omg! YES! Thank you! 🙏🏾  🙌🏾 New music coming s...</td>\n",
       "    </tr>\n",
       "    <tr>\n",
       "      <th>3</th>\n",
       "      <td>You never know what someone is going through! ...</td>\n",
       "    </tr>\n",
       "    <tr>\n",
       "      <th>4</th>\n",
       "      <td>Mannnnn another young soul gone from drug over...</td>\n",
       "    </tr>\n",
       "  </tbody>\n",
       "</table>\n",
       "</div>"
      ],
      "text/plain": [
       "                                              Tweets\n",
       "0  R.I.P Queen👑 @ArethaFranklin \\n😥❤❤❤❤❤\\nhttps:/...\n",
       "1  Aretha Franklin - Natural Woman - (Ali Caldwel...\n",
       "2  Omg! YES! Thank you! 🙏🏾  🙌🏾 New music coming s...\n",
       "3  You never know what someone is going through! ...\n",
       "4  Mannnnn another young soul gone from drug over..."
      ]
     },
     "metadata": {},
     "output_type": "display_data"
    }
   ],
   "source": [
    "# Create a pandas dataframe:\n",
    "data = pd.DataFrame(data=[tweet.text for tweet in tweets], columns = ['Tweets'])\n",
    "\n",
    "# Display the first 10 elements of the dataframe\n",
    "display(data.head())"
   ]
  },
  {
   "cell_type": "code",
   "execution_count": 211,
   "metadata": {},
   "outputs": [
    {
     "name": "stdout",
     "output_type": "stream",
     "text": [
      "['__class__', '__delattr__', '__dict__', '__dir__', '__doc__', '__eq__', '__format__', '__ge__', '__getattribute__', '__getstate__', '__gt__', '__hash__', '__init__', '__init_subclass__', '__le__', '__lt__', '__module__', '__ne__', '__new__', '__reduce__', '__reduce_ex__', '__repr__', '__setattr__', '__sizeof__', '__str__', '__subclasshook__', '__weakref__', '_api', '_json', 'author', 'contributors', 'coordinates', 'created_at', 'destroy', 'entities', 'favorite', 'favorite_count', 'favorited', 'geo', 'id', 'id_str', 'in_reply_to_screen_name', 'in_reply_to_status_id', 'in_reply_to_status_id_str', 'in_reply_to_user_id', 'in_reply_to_user_id_str', 'is_quote_status', 'lang', 'parse', 'parse_list', 'place', 'possibly_sensitive', 'retweet', 'retweet_count', 'retweeted', 'retweets', 'source', 'source_url', 'text', 'truncated', 'user']\n"
     ]
    }
   ],
   "source": [
    "# Internal methods of a single tweet object\n",
    "print(dir(tweets[0]))"
   ]
  },
  {
   "cell_type": "code",
   "execution_count": 213,
   "metadata": {
    "scrolled": true
   },
   "outputs": [
    {
     "name": "stdout",
     "output_type": "stream",
     "text": [
      "ID:  1040406951610523650\n",
      "Created at:  2018-09-14 01:08:41\n",
      "Source:  Twitter for Android\n",
      "Favorite Count:  14\n",
      "Retweet Count:  7\n",
      "Geo:  None\n",
      "Coordinates:  None\n",
      "Entities:  {'hashtags': [], 'symbols': [], 'user_mentions': [{'screen_name': 'ArethaFranklin', 'name': 'Aretha Franklin', 'id': 469478156, 'id_str': '469478156', 'indices': [13, 28]}], 'urls': [{'url': 'https://t.co/rb8OAN4mco', 'expanded_url': 'https://m.youtube.com/watch?v=L_YAYxuq3wM&feature=youtu.be', 'display_url': 'm.youtube.com/watch?v=L_YAYx…', 'indices': [37, 60]}]}\n"
     ]
    }
   ],
   "source": [
    "# We print info from the first tweet:\n",
    "print('ID: ', tweets[0].id)\n",
    "print('Created at: ', tweets[0].created_at)\n",
    "print('Source: ', tweets[0].source)\n",
    "print('Favorite Count: ', tweets[0].favorite_count)\n",
    "print('Retweet Count: ', tweets[0].retweet_count)\n",
    "print('Geo: ', tweets[0].geo)\n",
    "print('Coordinates: ', tweets[0].coordinates)\n",
    "print('Entities: ', tweets[0].entities)"
   ]
  },
  {
   "cell_type": "markdown",
   "metadata": {},
   "source": [
    "# Adding relevant info to dataframe"
   ]
  },
  {
   "cell_type": "code",
   "execution_count": 214,
   "metadata": {},
   "outputs": [],
   "source": [
    "# We add relevant data:\n",
    "data['len']  = np.array([len(tweet.text) for tweet in tweets])\n",
    "data['ID']   = np.array([tweet.id for tweet in tweets])\n",
    "data['Date'] = np.array([tweet.created_at for tweet in tweets])\n",
    "data['Source'] = np.array([tweet.source for tweet in tweets])\n",
    "data['Likes']  = np.array([tweet.favorite_count for tweet in tweets])\n",
    "data['RTs']    = np.array([tweet.retweet_count for tweet in tweets])"
   ]
  },
  {
   "cell_type": "code",
   "execution_count": 215,
   "metadata": {
    "scrolled": true
   },
   "outputs": [
    {
     "data": {
      "text/html": [
       "<div>\n",
       "<style>\n",
       "    .dataframe thead tr:only-child th {\n",
       "        text-align: right;\n",
       "    }\n",
       "\n",
       "    .dataframe thead th {\n",
       "        text-align: left;\n",
       "    }\n",
       "\n",
       "    .dataframe tbody tr th {\n",
       "        vertical-align: top;\n",
       "    }\n",
       "</style>\n",
       "<table border=\"1\" class=\"dataframe\">\n",
       "  <thead>\n",
       "    <tr style=\"text-align: right;\">\n",
       "      <th></th>\n",
       "      <th>Tweets</th>\n",
       "      <th>len</th>\n",
       "      <th>ID</th>\n",
       "      <th>Date</th>\n",
       "      <th>Source</th>\n",
       "      <th>Likes</th>\n",
       "      <th>RTs</th>\n",
       "    </tr>\n",
       "  </thead>\n",
       "  <tbody>\n",
       "    <tr>\n",
       "      <th>0</th>\n",
       "      <td>R.I.P Queen👑 @ArethaFranklin \\n😥❤❤❤❤❤\\nhttps:/...</td>\n",
       "      <td>60</td>\n",
       "      <td>1040406951610523650</td>\n",
       "      <td>2018-09-14 01:08:41</td>\n",
       "      <td>Twitter for Android</td>\n",
       "      <td>14</td>\n",
       "      <td>7</td>\n",
       "    </tr>\n",
       "    <tr>\n",
       "      <th>1</th>\n",
       "      <td>Aretha Franklin - Natural Woman - (Ali Caldwel...</td>\n",
       "      <td>111</td>\n",
       "      <td>1040399755514277888</td>\n",
       "      <td>2018-09-14 00:40:06</td>\n",
       "      <td>Google</td>\n",
       "      <td>16</td>\n",
       "      <td>7</td>\n",
       "    </tr>\n",
       "    <tr>\n",
       "      <th>2</th>\n",
       "      <td>Omg! YES! Thank you! 🙏🏾  🙌🏾 New music coming s...</td>\n",
       "      <td>75</td>\n",
       "      <td>1039653891703496704</td>\n",
       "      <td>2018-09-11 23:16:18</td>\n",
       "      <td>Twitter for iPhone</td>\n",
       "      <td>55</td>\n",
       "      <td>8</td>\n",
       "    </tr>\n",
       "    <tr>\n",
       "      <th>3</th>\n",
       "      <td>You never know what someone is going through! ...</td>\n",
       "      <td>88</td>\n",
       "      <td>1038185566679060481</td>\n",
       "      <td>2018-09-07 22:01:42</td>\n",
       "      <td>Twitter for iPhone</td>\n",
       "      <td>107</td>\n",
       "      <td>33</td>\n",
       "    </tr>\n",
       "    <tr>\n",
       "      <th>4</th>\n",
       "      <td>Mannnnn another young soul gone from drug over...</td>\n",
       "      <td>140</td>\n",
       "      <td>1038185095818043392</td>\n",
       "      <td>2018-09-07 21:59:50</td>\n",
       "      <td>Twitter for iPhone</td>\n",
       "      <td>96</td>\n",
       "      <td>19</td>\n",
       "    </tr>\n",
       "    <tr>\n",
       "      <th>5</th>\n",
       "      <td>Excited 🤗</td>\n",
       "      <td>9</td>\n",
       "      <td>1037786580549873667</td>\n",
       "      <td>2018-09-06 19:36:16</td>\n",
       "      <td>Twitter for iPhone</td>\n",
       "      <td>10</td>\n",
       "      <td>1</td>\n",
       "    </tr>\n",
       "    <tr>\n",
       "      <th>6</th>\n",
       "      <td>Shooting a commercial tomorrow! Can’t wait to ...</td>\n",
       "      <td>77</td>\n",
       "      <td>1037786304438775808</td>\n",
       "      <td>2018-09-06 19:35:10</td>\n",
       "      <td>Twitter for iPhone</td>\n",
       "      <td>64</td>\n",
       "      <td>4</td>\n",
       "    </tr>\n",
       "    <tr>\n",
       "      <th>7</th>\n",
       "      <td>Going LIVE on my IG tomorrow at 630PM</td>\n",
       "      <td>37</td>\n",
       "      <td>1037785372573540353</td>\n",
       "      <td>2018-09-06 19:31:28</td>\n",
       "      <td>Twitter for iPhone</td>\n",
       "      <td>7</td>\n",
       "      <td>2</td>\n",
       "    </tr>\n",
       "    <tr>\n",
       "      <th>8</th>\n",
       "      <td>🍋 https://t.co/kZNoU8806t</td>\n",
       "      <td>25</td>\n",
       "      <td>1037784298869469184</td>\n",
       "      <td>2018-09-06 19:27:12</td>\n",
       "      <td>Twitter for iPhone</td>\n",
       "      <td>88</td>\n",
       "      <td>8</td>\n",
       "    </tr>\n",
       "    <tr>\n",
       "      <th>9</th>\n",
       "      <td>Consistency has CHANGED MY LIFE!\\nFind that PU...</td>\n",
       "      <td>81</td>\n",
       "      <td>1037044105782673409</td>\n",
       "      <td>2018-09-04 18:25:56</td>\n",
       "      <td>Twitter for iPhone</td>\n",
       "      <td>114</td>\n",
       "      <td>12</td>\n",
       "    </tr>\n",
       "  </tbody>\n",
       "</table>\n",
       "</div>"
      ],
      "text/plain": [
       "                                              Tweets  len  \\\n",
       "0  R.I.P Queen👑 @ArethaFranklin \\n😥❤❤❤❤❤\\nhttps:/...   60   \n",
       "1  Aretha Franklin - Natural Woman - (Ali Caldwel...  111   \n",
       "2  Omg! YES! Thank you! 🙏🏾  🙌🏾 New music coming s...   75   \n",
       "3  You never know what someone is going through! ...   88   \n",
       "4  Mannnnn another young soul gone from drug over...  140   \n",
       "5                                          Excited 🤗    9   \n",
       "6  Shooting a commercial tomorrow! Can’t wait to ...   77   \n",
       "7              Going LIVE on my IG tomorrow at 630PM   37   \n",
       "8                          🍋 https://t.co/kZNoU8806t   25   \n",
       "9  Consistency has CHANGED MY LIFE!\\nFind that PU...   81   \n",
       "\n",
       "                    ID                Date               Source  Likes  RTs  \n",
       "0  1040406951610523650 2018-09-14 01:08:41  Twitter for Android     14    7  \n",
       "1  1040399755514277888 2018-09-14 00:40:06               Google     16    7  \n",
       "2  1039653891703496704 2018-09-11 23:16:18   Twitter for iPhone     55    8  \n",
       "3  1038185566679060481 2018-09-07 22:01:42   Twitter for iPhone    107   33  \n",
       "4  1038185095818043392 2018-09-07 21:59:50   Twitter for iPhone     96   19  \n",
       "5  1037786580549873667 2018-09-06 19:36:16   Twitter for iPhone     10    1  \n",
       "6  1037786304438775808 2018-09-06 19:35:10   Twitter for iPhone     64    4  \n",
       "7  1037785372573540353 2018-09-06 19:31:28   Twitter for iPhone      7    2  \n",
       "8  1037784298869469184 2018-09-06 19:27:12   Twitter for iPhone     88    8  \n",
       "9  1037044105782673409 2018-09-04 18:25:56   Twitter for iPhone    114   12  "
      ]
     },
     "metadata": {},
     "output_type": "display_data"
    }
   ],
   "source": [
    "# Display of first 10 elements from dataframe:\n",
    "display(data.head(10))"
   ]
  },
  {
   "cell_type": "markdown",
   "metadata": {},
   "source": [
    "Another attempt at twitter API usage"
   ]
  },
  {
   "cell_type": "code",
   "execution_count": 11,
   "metadata": {},
   "outputs": [
    {
     "name": "stdout",
     "output_type": "stream",
     "text": [
      "BryanNe34442682 Tweeted: @KevinF4America @amchornetx @ExplodeOverton @Cohiba1960 @DCraelin @stringfellowfr4 @jaketapper @RosenJeffrey… https://t.co/TO6KugmIDA\n",
      "Shwento Tweeted: RT @cnni: Former Trump campaign chairman Paul Manafort has agreed to cooperate with the Justice Department, including in special counsel Ro…\n",
      "mmcgl2 Tweeted: RT @1Romans58: If you are a Trump supporter that\n",
      "\n",
      "Does not care what race you are\n",
      "Does not care what sexual preference you have\n",
      "Does not ca…\n",
      "Ceecee53492955 Tweeted: RT @dbongino: If John Kerry didn’t violate the Logan Act then the Logan Act is a joke, and should be removed from the books. Also, Mike Fly…\n",
      "MaryGoo26898598 Tweeted: RT @jerseybadger1: @cjdtwit @grizzlemeister @FLOTUS @PIRATEDANTRAIN @MammaLon @CAoutcast @Timesupjokers @LaunaSallai @anonymouse4537 @tenac…\n",
      "ArtistGeneral Tweeted: RT @RawStory: CNN analyst: Manafort flipping means President Trump now has to decide his son’s fate\n",
      "\n",
      "https://t.co/TBZAzcXddv\n",
      "TutiHamm Tweeted: RT @SenatorDurbin: This is the most important Supreme Court vacancy in a generation, and President Trump has chosen Judge Kavanaugh to be t…\n",
      "monalee777 Tweeted: RT @Sky_Lee_1: @realDonaldTrump GUILTY PLEAS: \n",
      "George Papadopoulos \n",
      "Michael Flynn \n",
      "Alex van der Zwaan \n",
      "Rick Gates \n",
      "Michael Cohen \n",
      "Paul Mana…\n",
      "bigdoggmc Tweeted: RT @bbusa617: OBAMA Gets HEATED, Attacks ‘Radical’ Trump &amp; GOP In Speech ‘Bigots’ https://t.co/dC04OQU3tI    \n",
      "\n",
      "HOW EVIL: Obama Calling The…\n",
      "joelJoh29453569 Tweeted: RT @dbongino: If John Kerry didn’t violate the Logan Act then the Logan Act is a joke, and should be removed from the books. Also, Mike Fly…\n",
      "PBerryjax Tweeted: RT @DearAuntCrabby: Aiding and Abetting: House GOP Blocks Bill to Reveal Trump, Putin Documents https://t.co/6F7IiB6Yia https://t.co/m7twR6…\n",
      "ffd365 Tweeted: #FFD365 Der Q-Anon-Mythos, Trump und die Endzeit – STONER frank&amp;frei – YouTube - https://t.co/slU32GHiSB\n",
      "VSIDO Tweeted: RT @BrianKarem: Where is Trump? Who is in Charge? Have not seen POTUS since Tuesday. He's released a photo with him and VP Pence being upda…\n",
      "PattyWheeler12 Tweeted: RT @cjdtwit: ❌❌❌\n",
      "\n",
      "Kathy Griffin set to Receive ‘Comedian of the Year’ Award! \n",
      "\n",
      "Once again we see the UNHINGED HYPOCRISY from the Left! \n",
      "\n",
      "No…\n",
      "LeadFootLeah Tweeted: RT @coleyworld: This is a top shelf “Trump Snub” right here. https://t.co/4g5b8t5Ryq\n"
     ]
    }
   ],
   "source": [
    "# Creating the API object while passing in auth information\n",
    "#api = tweepy.API(auth)\n",
    "\n",
    "# The search term you want to find\n",
    "query = \"trump\"\n",
    "# Language code (follows ISO 639-1 standards)\n",
    "language = \"en\"\n",
    "\n",
    "# Calling the user_timeline function with our parameters\n",
    "results = extractor.search(q=query)\n",
    "\n",
    "# foreach through all tweets pulled\n",
    "for tweet in results:\n",
    "   # printing the text stored inside the tweet object\n",
    "   print (tweet.user.screen_name, \"Tweeted:\", tweet.text)"
   ]
  },
  {
   "cell_type": "markdown",
   "metadata": {},
   "source": [
    "# Creating a DataFrame of tweets\n",
    "This is where you can pickup from using scraped tweets.\n",
    "Everything above was using twitter api object"
   ]
  },
  {
   "cell_type": "code",
   "execution_count": 15,
   "metadata": {},
   "outputs": [
    {
     "ename": "NameError",
     "evalue": "name 'testing' is not defined",
     "output_type": "error",
     "traceback": [
      "\u001b[0;31m---------------------------------------------------------------------------\u001b[0m",
      "\u001b[0;31mNameError\u001b[0m                                 Traceback (most recent call last)",
      "\u001b[0;32m<ipython-input-15-479080a9106f>\u001b[0m in \u001b[0;36m<module>\u001b[0;34m()\u001b[0m\n\u001b[0;32m----> 1\u001b[0;31m \u001b[0mdata\u001b[0m \u001b[0;34m=\u001b[0m \u001b[0mpd\u001b[0m\u001b[0;34m.\u001b[0m\u001b[0mDataFrame\u001b[0m\u001b[0;34m(\u001b[0m\u001b[0mdata\u001b[0m\u001b[0;34m=\u001b[0m\u001b[0;34m[\u001b[0m\u001b[0mtweet\u001b[0m \u001b[0;32mfor\u001b[0m \u001b[0mtweet\u001b[0m \u001b[0;32min\u001b[0m \u001b[0mtesting\u001b[0m\u001b[0;34m[\u001b[0m\u001b[0;34m'text'\u001b[0m\u001b[0;34m]\u001b[0m\u001b[0;34m]\u001b[0m\u001b[0;34m,\u001b[0m \u001b[0mcolumns\u001b[0m \u001b[0;34m=\u001b[0m \u001b[0;34m[\u001b[0m\u001b[0;34m'Tweets'\u001b[0m\u001b[0;34m]\u001b[0m\u001b[0;34m)\u001b[0m\u001b[0;34m\u001b[0m\u001b[0m\n\u001b[0m\u001b[1;32m      2\u001b[0m \u001b[0;34m\u001b[0m\u001b[0m\n\u001b[1;32m      3\u001b[0m \u001b[0;31m# We add relevant data:\u001b[0m\u001b[0;34m\u001b[0m\u001b[0;34m\u001b[0m\u001b[0m\n\u001b[1;32m      4\u001b[0m \u001b[0mdata\u001b[0m\u001b[0;34m[\u001b[0m\u001b[0;34m'user'\u001b[0m\u001b[0;34m]\u001b[0m \u001b[0;34m=\u001b[0m \u001b[0mnp\u001b[0m\u001b[0;34m.\u001b[0m\u001b[0marray\u001b[0m\u001b[0;34m(\u001b[0m\u001b[0;34m[\u001b[0m\u001b[0mtweet\u001b[0m \u001b[0;32mfor\u001b[0m \u001b[0mtweet\u001b[0m \u001b[0;32min\u001b[0m \u001b[0mtesting\u001b[0m\u001b[0;34m[\u001b[0m\u001b[0;34m'user'\u001b[0m\u001b[0;34m]\u001b[0m\u001b[0;34m]\u001b[0m\u001b[0;34m)\u001b[0m\u001b[0;34m\u001b[0m\u001b[0m\n\u001b[1;32m      5\u001b[0m \u001b[0mdata\u001b[0m\u001b[0;34m[\u001b[0m\u001b[0;34m'len'\u001b[0m\u001b[0;34m]\u001b[0m  \u001b[0;34m=\u001b[0m \u001b[0mnp\u001b[0m\u001b[0;34m.\u001b[0m\u001b[0marray\u001b[0m\u001b[0;34m(\u001b[0m\u001b[0;34m[\u001b[0m\u001b[0mlen\u001b[0m\u001b[0;34m(\u001b[0m\u001b[0mtweet\u001b[0m\u001b[0;34m)\u001b[0m \u001b[0;32mfor\u001b[0m \u001b[0mtweet\u001b[0m \u001b[0;32min\u001b[0m \u001b[0mtesting\u001b[0m\u001b[0;34m[\u001b[0m\u001b[0;34m'text'\u001b[0m\u001b[0;34m]\u001b[0m\u001b[0;34m]\u001b[0m\u001b[0;34m)\u001b[0m\u001b[0;34m\u001b[0m\u001b[0m\n",
      "\u001b[0;31mNameError\u001b[0m: name 'testing' is not defined"
     ]
    }
   ],
   "source": [
    "data = pd.DataFrame(data=[tweet for tweet in testing['text']], columns = ['Tweets'])\n",
    "\n",
    "# We add relevant data:\n",
    "data['user'] = np.array([tweet for tweet in testing['user']])\n",
    "data['len']  = np.array([len(tweet) for tweet in testing['text']])\n",
    "data['ID']   = np.array([tweet for tweet in testing['id']])\n",
    "data['Date'] = np.array([tweet for tweet in testing['timestamp']])\n",
    "data['Source'] = np.array([tweet for tweet in testing['url']])\n",
    "data['Likes'] = np.array([tweet for tweet in testing['likes']], dtype=int)\n",
    "data['RTs'] = np.array([tweet for tweet in testing['retweets']], dtype=int)\n",
    "data['Replies'] = np.array([tweet for tweet in testing['replies']], dtype=int)\n",
    "data['Date'] = pd.to_datetime(data['Date'])\n",
    "data.to_csv('data.csv', index=False)\n",
    "display(data.head(10))"
   ]
  },
  {
   "cell_type": "markdown",
   "metadata": {},
   "source": [
    "# EDA"
   ]
  },
  {
   "cell_type": "markdown",
   "metadata": {},
   "source": [
    "Averages and popularity"
   ]
  },
  {
   "cell_type": "code",
   "execution_count": 17,
   "metadata": {},
   "outputs": [
    {
     "name": "stdout",
     "output_type": "stream",
     "text": [
      "The length's average in tweets: 111.78186786690243\n"
     ]
    }
   ],
   "source": [
    "# Extract the mean of lengths\n",
    "mean = np.mean(data['len'])\n",
    "\n",
    "print(\"The length's average in tweets: {}\".format(mean))"
   ]
  },
  {
   "cell_type": "code",
   "execution_count": 18,
   "metadata": {},
   "outputs": [
    {
     "name": "stdout",
     "output_type": "stream",
     "text": [
      "The tweet with more likes is: \n",
      "Miley Cyrus, Aaron Gibson, Ali Caldwell and Darby Walker- There'll Always Be Music (Live at The Voice) pic.twitter.com/I6N0vg6ZHs\n",
      "Number of likes: 300\n",
      "129 characters.\n",
      "\n",
      "The tweet with more retweets is: \n",
      "A melhor do the voice pode entra Ali caldwell #VoiceSaveAli\n",
      "Number of retweets: 1238\n",
      "59 characters.\n",
      "\n"
     ]
    }
   ],
   "source": [
    "# Extract the tweet with more FAVs and more RTs:\n",
    "\n",
    "fav_max = np.max(data['Likes'])\n",
    "rt_max  = np.max(data['RTs'])\n",
    "\n",
    "fav = data[data.Likes == fav_max].index[0]\n",
    "rt  = data[data.RTs == rt_max].index[0]\n",
    "\n",
    "# Max FAVs:\n",
    "print(\"The tweet with more likes is: \\n{}\".format(data['Tweets'][fav]))\n",
    "print(\"Number of likes: {}\".format(fav_max))\n",
    "print(\"{} characters.\\n\".format(data['len'][fav]))\n",
    "\n",
    "# Max RTs:\n",
    "print(\"The tweet with more retweets is: \\n{}\".format(data['Tweets'][rt]))\n",
    "print(\"Number of retweets: {}\".format(rt_max))\n",
    "print(\"{} characters.\\n\".format(data['len'][rt]))\n"
   ]
  },
  {
   "cell_type": "markdown",
   "metadata": {},
   "source": [
    "Time series"
   ]
  },
  {
   "cell_type": "code",
   "execution_count": 19,
   "metadata": {},
   "outputs": [],
   "source": [
    "# Create time series for data:\n",
    "tlen = pd.Series(data=data['len'].values, index=data['Date'])\n",
    "tfav = pd.Series(data=data['Likes'].values, index=data['Date'])\n",
    "tret = pd.Series(data=data['RTs'].values, index=data['Date'])"
   ]
  },
  {
   "cell_type": "code",
   "execution_count": 20,
   "metadata": {},
   "outputs": [
    {
     "data": {
      "image/png": "[encoded data removed]",
      "text/plain": [
       "<Figure size 1152x288 with 1 Axes>"
      ]
     },
     "metadata": {},
     "output_type": "display_data"
    }
   ],
   "source": [
    "# Lengths along time:\n",
    "tlen.plot(figsize=(16,4), color='r');"
   ]
  },
  {
   "cell_type": "code",
   "execution_count": 21,
   "metadata": {
    "scrolled": true
   },
   "outputs": [
    {
     "data": {
      "image/png": "[encoded data removed]",
      "text/plain": [
       "<Figure size 1152x288 with 1 Axes>"
      ]
     },
     "metadata": {},
     "output_type": "display_data"
    }
   ],
   "source": [
    "# Likes vs retweets visualization:\n",
    "tfav.plot(figsize=(16,4), label=\"Likes\", legend=True)\n",
    "tret.plot(figsize=(16,4), label=\"Retweets\", legend=True);"
   ]
  },
  {
   "cell_type": "markdown",
   "metadata": {},
   "source": [
    "# Sentiment Analysis"
   ]
  },
  {
   "cell_type": "code",
   "execution_count": 25,
   "metadata": {},
   "outputs": [],
   "source": [
    "# These functions should be put into a python file for usage on Instagram comments\n",
    "\n",
    "def clean_tweet(tweet):\n",
    "    '''\n",
    "    Utility function to clean the text in a tweet by removing \n",
    "    links and special characters using regex.\n",
    "    '''\n",
    "    return ' '.join(re.sub(\"(@[A-Za-z0-9]+)|([^0-9A-Za-z \\t])|(\\w+:\\/\\/\\S+)\", \" \", tweet).split())\n",
    "\n",
    "def analyze_sentiment(tweet):\n",
    "    '''\n",
    "    Utility function to classify the polarity of a tweet\n",
    "    using textblob. Polarity is binned into 3 bins - 1, 0, and -1\n",
    "    '''\n",
    "    analysis = TextBlob(clean_tweet(tweet))\n",
    "    if analysis.sentiment.polarity > 0:\n",
    "        return 1\n",
    "    elif analysis.sentiment.polarity == 0:\n",
    "        return 0\n",
    "    else:\n",
    "        return -1"
   ]
  },
  {
   "cell_type": "code",
   "execution_count": 24,
   "metadata": {},
   "outputs": [
    {
     "data": {
      "text/html": [
       "<div>\n",
       "<style>\n",
       "    .dataframe thead tr:only-child th {\n",
       "        text-align: right;\n",
       "    }\n",
       "\n",
       "    .dataframe thead th {\n",
       "        text-align: left;\n",
       "    }\n",
       "\n",
       "    .dataframe tbody tr th {\n",
       "        vertical-align: top;\n",
       "    }\n",
       "</style>\n",
       "<table border=\"1\" class=\"dataframe\">\n",
       "  <thead>\n",
       "    <tr style=\"text-align: right;\">\n",
       "      <th></th>\n",
       "      <th>Tweets</th>\n",
       "      <th>user</th>\n",
       "      <th>len</th>\n",
       "      <th>ID</th>\n",
       "      <th>Date</th>\n",
       "      <th>Source</th>\n",
       "      <th>Likes</th>\n",
       "      <th>RTs</th>\n",
       "      <th>Replies</th>\n",
       "      <th>SA</th>\n",
       "    </tr>\n",
       "  </thead>\n",
       "  <tbody>\n",
       "    <tr>\n",
       "      <th>1687</th>\n",
       "      <td>Ali Caldwell should be the real winner of #The...</td>\n",
       "      <td>Finesse101_</td>\n",
       "      <td>82</td>\n",
       "      <td>1025201060808249344</td>\n",
       "      <td>2018-08-03 02:05:54</td>\n",
       "      <td>/Finesse101_/status/1025201060808249344</td>\n",
       "      <td>2</td>\n",
       "      <td>0</td>\n",
       "      <td>0</td>\n",
       "      <td>1</td>\n",
       "    </tr>\n",
       "    <tr>\n",
       "      <th>5293</th>\n",
       "      <td>The Voice Live Playoffs: Ali Caldwell And Bill...</td>\n",
       "      <td>eugenplaton</td>\n",
       "      <td>162</td>\n",
       "      <td>801239880823021568</td>\n",
       "      <td>2016-11-23 01:44:08</td>\n",
       "      <td>/eugenplaton/status/801239880823021568</td>\n",
       "      <td>0</td>\n",
       "      <td>0</td>\n",
       "      <td>0</td>\n",
       "      <td>1</td>\n",
       "    </tr>\n",
       "    <tr>\n",
       "      <th>3217</th>\n",
       "      <td>I liked a @YouTube video http://youtu.be/KMym0...</td>\n",
       "      <td>RoberthNavy</td>\n",
       "      <td>119</td>\n",
       "      <td>1012391112940638208</td>\n",
       "      <td>2018-06-28 17:43:45</td>\n",
       "      <td>/RoberthNavy/status/1012391112940638210</td>\n",
       "      <td>0</td>\n",
       "      <td>0</td>\n",
       "      <td>0</td>\n",
       "      <td>-1</td>\n",
       "    </tr>\n",
       "    <tr>\n",
       "      <th>4620</th>\n",
       "      <td>Billy Gilman, Sundance Head, Wé McDonald and A...</td>\n",
       "      <td>Snowx2k5</td>\n",
       "      <td>90</td>\n",
       "      <td>805972180785827840</td>\n",
       "      <td>2016-12-06 03:08:36</td>\n",
       "      <td>/Snowx2k5/status/805972180785827841</td>\n",
       "      <td>0</td>\n",
       "      <td>1</td>\n",
       "      <td>0</td>\n",
       "      <td>1</td>\n",
       "    </tr>\n",
       "    <tr>\n",
       "      <th>2586</th>\n",
       "      <td>Ali Caldwell really bout to blow up</td>\n",
       "      <td>itsMayaMaya</td>\n",
       "      <td>35</td>\n",
       "      <td>1019974452459732992</td>\n",
       "      <td>2018-07-19 15:57:14</td>\n",
       "      <td>/itsMayaMaya/status/1019974452459732994</td>\n",
       "      <td>1</td>\n",
       "      <td>1</td>\n",
       "      <td>0</td>\n",
       "      <td>1</td>\n",
       "    </tr>\n",
       "    <tr>\n",
       "      <th>4803</th>\n",
       "      <td>New trending GIF tagged season 11, nbc, the vo...</td>\n",
       "      <td>ZakkisBatman</td>\n",
       "      <td>96</td>\n",
       "      <td>805947606589472768</td>\n",
       "      <td>2016-12-06 01:30:57</td>\n",
       "      <td>/ZakkisBatman/status/805947606589472768</td>\n",
       "      <td>0</td>\n",
       "      <td>0</td>\n",
       "      <td>0</td>\n",
       "      <td>1</td>\n",
       "    </tr>\n",
       "    <tr>\n",
       "      <th>473</th>\n",
       "      <td>#Entertainment Ali Caldwell &amp; Lauren Diaz Face...</td>\n",
       "      <td>yasminmitri</td>\n",
       "      <td>138</td>\n",
       "      <td>790853869362225152</td>\n",
       "      <td>2016-10-25 09:53:50</td>\n",
       "      <td>/yasminmitri/status/790853869362225152</td>\n",
       "      <td>0</td>\n",
       "      <td>0</td>\n",
       "      <td>0</td>\n",
       "      <td>-1</td>\n",
       "    </tr>\n",
       "    <tr>\n",
       "      <th>3014</th>\n",
       "      <td>Ali Caldwell Performs \"Set Fire To The Rain\" |...</td>\n",
       "      <td>DerekDe91760774</td>\n",
       "      <td>114</td>\n",
       "      <td>1013210593791053824</td>\n",
       "      <td>2018-07-01 00:00:04</td>\n",
       "      <td>/DerekDe91760774/status/1013210593791053825</td>\n",
       "      <td>0</td>\n",
       "      <td>0</td>\n",
       "      <td>0</td>\n",
       "      <td>0</td>\n",
       "    </tr>\n",
       "    <tr>\n",
       "      <th>5662</th>\n",
       "      <td>I liked a @YouTube video http://youtu.be/PPBfQ...</td>\n",
       "      <td>Joni_Daniela</td>\n",
       "      <td>115</td>\n",
       "      <td>798412655040102400</td>\n",
       "      <td>2016-11-15 06:29:45</td>\n",
       "      <td>/Joni_Daniela/status/798412655040102400</td>\n",
       "      <td>0</td>\n",
       "      <td>0</td>\n",
       "      <td>0</td>\n",
       "      <td>1</td>\n",
       "    </tr>\n",
       "    <tr>\n",
       "      <th>1016</th>\n",
       "      <td>ALI CALDWELL!!</td>\n",
       "      <td>xojpocaigue</td>\n",
       "      <td>15</td>\n",
       "      <td>779179184669073408</td>\n",
       "      <td>2016-09-23 04:42:48</td>\n",
       "      <td>/xojpocaigue/status/779179184669073408</td>\n",
       "      <td>0</td>\n",
       "      <td>0</td>\n",
       "      <td>1</td>\n",
       "      <td>0</td>\n",
       "    </tr>\n",
       "  </tbody>\n",
       "</table>\n",
       "</div>"
      ],
      "text/plain": [
       "                                                 Tweets             user  len  \\\n",
       "1687  Ali Caldwell should be the real winner of #The...      Finesse101_   82   \n",
       "5293  The Voice Live Playoffs: Ali Caldwell And Bill...      eugenplaton  162   \n",
       "3217  I liked a @YouTube video http://youtu.be/KMym0...      RoberthNavy  119   \n",
       "4620  Billy Gilman, Sundance Head, Wé McDonald and A...         Snowx2k5   90   \n",
       "2586                Ali Caldwell really bout to blow up      itsMayaMaya   35   \n",
       "4803  New trending GIF tagged season 11, nbc, the vo...     ZakkisBatman   96   \n",
       "473   #Entertainment Ali Caldwell & Lauren Diaz Face...      yasminmitri  138   \n",
       "3014  Ali Caldwell Performs \"Set Fire To The Rain\" |...  DerekDe91760774  114   \n",
       "5662  I liked a @YouTube video http://youtu.be/PPBfQ...     Joni_Daniela  115   \n",
       "1016                                    ALI CALDWELL!!       xojpocaigue   15   \n",
       "\n",
       "                       ID                Date  \\\n",
       "1687  1025201060808249344 2018-08-03 02:05:54   \n",
       "5293   801239880823021568 2016-11-23 01:44:08   \n",
       "3217  1012391112940638208 2018-06-28 17:43:45   \n",
       "4620   805972180785827840 2016-12-06 03:08:36   \n",
       "2586  1019974452459732992 2018-07-19 15:57:14   \n",
       "4803   805947606589472768 2016-12-06 01:30:57   \n",
       "473    790853869362225152 2016-10-25 09:53:50   \n",
       "3014  1013210593791053824 2018-07-01 00:00:04   \n",
       "5662   798412655040102400 2016-11-15 06:29:45   \n",
       "1016   779179184669073408 2016-09-23 04:42:48   \n",
       "\n",
       "                                           Source  Likes  RTs  Replies  SA  \n",
       "1687      /Finesse101_/status/1025201060808249344      2    0        0   1  \n",
       "5293       /eugenplaton/status/801239880823021568      0    0        0   1  \n",
       "3217      /RoberthNavy/status/1012391112940638210      0    0        0  -1  \n",
       "4620          /Snowx2k5/status/805972180785827841      0    1        0   1  \n",
       "2586      /itsMayaMaya/status/1019974452459732994      1    1        0   1  \n",
       "4803      /ZakkisBatman/status/805947606589472768      0    0        0   1  \n",
       "473        /yasminmitri/status/790853869362225152      0    0        0  -1  \n",
       "3014  /DerekDe91760774/status/1013210593791053825      0    0        0   0  \n",
       "5662      /Joni_Daniela/status/798412655040102400      0    0        0   1  \n",
       "1016       /xojpocaigue/status/779179184669073408      0    0        1   0  "
      ]
     },
     "metadata": {},
     "output_type": "display_data"
    }
   ],
   "source": [
    "# Create a column with the result of the analysis:\n",
    "data['SA'] = np.array([ analyze_sentiment(tweet) for tweet in data['Tweets'] ])\n",
    "\n",
    "# Display the updated dataframe with the new column:\n",
    "display(data.sample(10))"
   ]
  },
  {
   "cell_type": "markdown",
   "metadata": {},
   "source": [
    "Analyzing results"
   ]
  },
  {
   "cell_type": "code",
   "execution_count": 26,
   "metadata": {},
   "outputs": [],
   "source": [
    "# Construct lists with classified tweets:\n",
    "\n",
    "pos_tweets = [ tweet for index, tweet in enumerate(data['Tweets']) if data['SA'][index] > 0]\n",
    "neu_tweets = [ tweet for index, tweet in enumerate(data['Tweets']) if data['SA'][index] == 0]\n",
    "neg_tweets = [ tweet for index, tweet in enumerate(data['Tweets']) if data['SA'][index] < 0]"
   ]
  },
  {
   "cell_type": "code",
   "execution_count": 27,
   "metadata": {},
   "outputs": [
    {
     "name": "stdout",
     "output_type": "stream",
     "text": [
      "Percentage of positive tweets: 47.934415688796015%\n",
      "Percentage of neutral tweets: 37.325188876386434%\n",
      "Percentage of negative tweets: 14.740395434817554%\n"
     ]
    }
   ],
   "source": [
    "# Print percentages:\n",
    "\n",
    "print(\"Percentage of positive tweets: {}%\".format(len(pos_tweets)*100/len(data['Tweets'])))\n",
    "print(\"Percentage of neutral tweets: {}%\".format(len(neu_tweets)*100/len(data['Tweets'])))\n",
    "print(\"Percentage of negative tweets: {}%\".format(len(neg_tweets)*100/len(data['Tweets'])))\n"
   ]
  },
  {
   "cell_type": "markdown",
   "metadata": {},
   "source": [
    "Time Series"
   ]
  },
  {
   "cell_type": "code",
   "execution_count": 28,
   "metadata": {},
   "outputs": [],
   "source": [
    "# Construct columns for year, month, and day of tweet\n",
    "\n",
    "data['twt_yr'] = [date.year for date in data['Date']]\n",
    "data['twt_month'] = [date.month for date in data['Date']]\n",
    "data['twt_day'] = [date.day for date in data['Date']]"
   ]
  },
  {
   "cell_type": "markdown",
   "metadata": {},
   "source": [
    "2011 - 2018 Sentiment Analysis"
   ]
  },
  {
   "cell_type": "code",
   "execution_count": 30,
   "metadata": {},
   "outputs": [
    {
     "data": {
      "image/png": "[encoded data removed]",
      "text/plain": [
       "<Figure size 1152x288 with 1 Axes>"
      ]
     },
     "metadata": {},
     "output_type": "display_data"
    }
   ],
   "source": [
    "tsent = pd.Series(data=data['SA'].values, index=data['Date'])\n",
    "tsent.plot(figsize=(16,4), color='b');"
   ]
  },
  {
   "cell_type": "markdown",
   "metadata": {},
   "source": [
    "#### 2017-2018 Sentiment Analysis"
   ]
  },
  {
   "cell_type": "code",
   "execution_count": null,
   "metadata": {},
   "outputs": [],
   "source": [
    "data[data['twt_yr']> 2016]"
   ]
  },
  {
   "cell_type": "code",
   "execution_count": 4,
   "metadata": {},
   "outputs": [
    {
     "ename": "NameError",
     "evalue": "name 'data' is not defined",
     "output_type": "error",
     "traceback": [
      "\u001b[0;31m-----------------------------------------------------------\u001b[0m",
      "\u001b[0;31mNameError\u001b[0m                 Traceback (most recent call last)",
      "\u001b[0;32m<ipython-input-4-8fd4096a85b4>\u001b[0m in \u001b[0;36m<module>\u001b[0;34m()\u001b[0m\n\u001b[0;32m----> 1\u001b[0;31m \u001b[0mtsent_year\u001b[0m \u001b[0;34m=\u001b[0m \u001b[0mpd\u001b[0m\u001b[0;34m.\u001b[0m\u001b[0mSeries\u001b[0m\u001b[0;34m(\u001b[0m\u001b[0mdata\u001b[0m\u001b[0;34m=\u001b[0m\u001b[0mdata\u001b[0m\u001b[0;34m[\u001b[0m\u001b[0mdata\u001b[0m\u001b[0;34m[\u001b[0m\u001b[0;34m'twt_yr'\u001b[0m\u001b[0;34m]\u001b[0m \u001b[0;34m>\u001b[0m \u001b[0;36m2016\u001b[0m\u001b[0;34m]\u001b[0m\u001b[0;34m[\u001b[0m\u001b[0;34m'SA'\u001b[0m\u001b[0;34m]\u001b[0m\u001b[0;34m.\u001b[0m\u001b[0mvalues\u001b[0m\u001b[0;34m,\u001b[0m \u001b[0mindex\u001b[0m\u001b[0;34m=\u001b[0m\u001b[0mdata\u001b[0m\u001b[0;34m[\u001b[0m\u001b[0mdata\u001b[0m\u001b[0;34m[\u001b[0m\u001b[0;34m'twt_yr'\u001b[0m\u001b[0;34m]\u001b[0m \u001b[0;34m>\u001b[0m \u001b[0;36m2016\u001b[0m\u001b[0;34m]\u001b[0m\u001b[0;34m[\u001b[0m\u001b[0;34m'Date'\u001b[0m\u001b[0;34m]\u001b[0m\u001b[0;34m)\u001b[0m\u001b[0;34m\u001b[0m\u001b[0m\n\u001b[0m\u001b[1;32m      2\u001b[0m \u001b[0mtsent_year\u001b[0m\u001b[0;34m.\u001b[0m\u001b[0mplot\u001b[0m\u001b[0;34m(\u001b[0m\u001b[0mfigsize\u001b[0m\u001b[0;34m=\u001b[0m\u001b[0;34m(\u001b[0m\u001b[0;36m16\u001b[0m\u001b[0;34m,\u001b[0m\u001b[0;36m4\u001b[0m\u001b[0;34m)\u001b[0m\u001b[0;34m,\u001b[0m \u001b[0mcolor\u001b[0m\u001b[0;34m=\u001b[0m\u001b[0;34m'r'\u001b[0m\u001b[0;34m)\u001b[0m\u001b[0;34m;\u001b[0m\u001b[0;34m\u001b[0m\u001b[0m\n",
      "\u001b[0;31mNameError\u001b[0m: name 'data' is not defined"
     ]
    }
   ],
   "source": [
    "tsent_year = pd.Series(data=data[data['twt_yr'] > 2016]['SA'].values, index=data[data['twt_yr'] > 2016]['Date'])\n",
    "tsent_year.plot(figsize=(16,4), color='r');"
   ]
  },
  {
   "cell_type": "markdown",
   "metadata": {},
   "source": [
    "#### Analyze Each Performance on The Four:\n",
    "- 6/28\n",
    "- 7/12\n",
    "- 7/19\n",
    "- 7/26"
   ]
  },
  {
   "cell_type": "markdown",
   "metadata": {},
   "source": [
    "First performance 6/28"
   ]
  },
  {
   "cell_type": "code",
   "execution_count": 32,
   "metadata": {},
   "outputs": [],
   "source": [
    "# Create DFs for each performance\n",
    "\n",
    "first_date = data[(data['twt_yr'] == 2018) & (data['twt_month'] == 6)]"
   ]
  },
  {
   "cell_type": "code",
   "execution_count": 33,
   "metadata": {},
   "outputs": [
    {
     "ename": "ValueError",
     "evalue": "Wrong number of items passed 0, placement implies 2211",
     "output_type": "error",
     "traceback": [
      "\u001b[0;31m---------------------------------------------------------------------------\u001b[0m",
      "\u001b[0;31mValueError\u001b[0m                                Traceback (most recent call last)",
      "\u001b[0;32m<ipython-input-33-122767c768d2>\u001b[0m in \u001b[0;36m<module>\u001b[0;34m()\u001b[0m\n\u001b[0;32m----> 1\u001b[0;31m \u001b[0mfirst_counts\u001b[0m \u001b[0;34m=\u001b[0m \u001b[0mpd\u001b[0m\u001b[0;34m.\u001b[0m\u001b[0mSeries\u001b[0m\u001b[0;34m(\u001b[0m\u001b[0mdata\u001b[0m\u001b[0;34m=\u001b[0m\u001b[0mdata\u001b[0m\u001b[0;34m[\u001b[0m\u001b[0;34m(\u001b[0m\u001b[0mdata\u001b[0m\u001b[0;34m[\u001b[0m\u001b[0;34m'twt_yr'\u001b[0m\u001b[0;34m]\u001b[0m \u001b[0;34m==\u001b[0m \u001b[0;36m2018\u001b[0m\u001b[0;34m)\u001b[0m \u001b[0;34m&\u001b[0m \u001b[0;34m(\u001b[0m\u001b[0mdata\u001b[0m\u001b[0;34m[\u001b[0m\u001b[0;34m'twt_month'\u001b[0m\u001b[0;34m]\u001b[0m \u001b[0;34m==\u001b[0m \u001b[0;36m6\u001b[0m\u001b[0;34m)\u001b[0m \u001b[0;34m&\u001b[0m \u001b[0;34m(\u001b[0m\u001b[0mdata\u001b[0m\u001b[0;34m[\u001b[0m\u001b[0;34m'twt_day'\u001b[0m\u001b[0;34m]\u001b[0m \u001b[0;34m==\u001b[0m \u001b[0;36m12\u001b[0m\u001b[0;34m)\u001b[0m\u001b[0;34m]\u001b[0m\u001b[0;34m[\u001b[0m\u001b[0;34m'SA'\u001b[0m\u001b[0;34m]\u001b[0m\u001b[0;34m.\u001b[0m\u001b[0mvalues\u001b[0m\u001b[0;34m,\u001b[0m \u001b[0mindex\u001b[0m\u001b[0;34m=\u001b[0m\u001b[0mdata\u001b[0m\u001b[0;34m[\u001b[0m\u001b[0mdata\u001b[0m\u001b[0;34m[\u001b[0m\u001b[0;34m'twt_yr'\u001b[0m\u001b[0;34m]\u001b[0m \u001b[0;34m>\u001b[0m \u001b[0;36m2016\u001b[0m\u001b[0;34m]\u001b[0m\u001b[0;34m[\u001b[0m\u001b[0;34m'Date'\u001b[0m\u001b[0;34m]\u001b[0m\u001b[0;34m)\u001b[0m\u001b[0;34m\u001b[0m\u001b[0m\n\u001b[0m\u001b[1;32m      2\u001b[0m \u001b[0mfirst_counts\u001b[0m\u001b[0;34m.\u001b[0m\u001b[0mplot\u001b[0m\u001b[0;34m(\u001b[0m\u001b[0mfigsize\u001b[0m\u001b[0;34m=\u001b[0m\u001b[0;34m(\u001b[0m\u001b[0;36m16\u001b[0m\u001b[0;34m,\u001b[0m\u001b[0;36m4\u001b[0m\u001b[0;34m)\u001b[0m\u001b[0;34m,\u001b[0m \u001b[0mcolor\u001b[0m\u001b[0;34m=\u001b[0m\u001b[0;34m'r'\u001b[0m\u001b[0;34m)\u001b[0m\u001b[0;34m;\u001b[0m\u001b[0;34m\u001b[0m\u001b[0m\n",
      "\u001b[0;32m~/anaconda3/lib/python3.6/site-packages/pandas/core/series.py\u001b[0m in \u001b[0;36m__init__\u001b[0;34m(self, data, index, dtype, name, copy, fastpath)\u001b[0m\n\u001b[1;32m    248\u001b[0m                                        raise_cast_failure=True)\n\u001b[1;32m    249\u001b[0m \u001b[0;34m\u001b[0m\u001b[0m\n\u001b[0;32m--> 250\u001b[0;31m                 \u001b[0mdata\u001b[0m \u001b[0;34m=\u001b[0m \u001b[0mSingleBlockManager\u001b[0m\u001b[0;34m(\u001b[0m\u001b[0mdata\u001b[0m\u001b[0;34m,\u001b[0m \u001b[0mindex\u001b[0m\u001b[0;34m,\u001b[0m \u001b[0mfastpath\u001b[0m\u001b[0;34m=\u001b[0m\u001b[0;32mTrue\u001b[0m\u001b[0;34m)\u001b[0m\u001b[0;34m\u001b[0m\u001b[0m\n\u001b[0m\u001b[1;32m    251\u001b[0m \u001b[0;34m\u001b[0m\u001b[0m\n\u001b[1;32m    252\u001b[0m         \u001b[0mgeneric\u001b[0m\u001b[0;34m.\u001b[0m\u001b[0mNDFrame\u001b[0m\u001b[0;34m.\u001b[0m\u001b[0m__init__\u001b[0m\u001b[0;34m(\u001b[0m\u001b[0mself\u001b[0m\u001b[0;34m,\u001b[0m \u001b[0mdata\u001b[0m\u001b[0;34m,\u001b[0m \u001b[0mfastpath\u001b[0m\u001b[0;34m=\u001b[0m\u001b[0;32mTrue\u001b[0m\u001b[0;34m)\u001b[0m\u001b[0;34m\u001b[0m\u001b[0m\n",
      "\u001b[0;32m~/anaconda3/lib/python3.6/site-packages/pandas/core/internals.py\u001b[0m in \u001b[0;36m__init__\u001b[0;34m(self, block, axis, do_integrity_check, fastpath)\u001b[0m\n\u001b[1;32m   4115\u001b[0m         \u001b[0;32mif\u001b[0m \u001b[0;32mnot\u001b[0m \u001b[0misinstance\u001b[0m\u001b[0;34m(\u001b[0m\u001b[0mblock\u001b[0m\u001b[0;34m,\u001b[0m \u001b[0mBlock\u001b[0m\u001b[0;34m)\u001b[0m\u001b[0;34m:\u001b[0m\u001b[0;34m\u001b[0m\u001b[0m\n\u001b[1;32m   4116\u001b[0m             block = make_block(block, placement=slice(0, len(axis)), ndim=1,\n\u001b[0;32m-> 4117\u001b[0;31m                                fastpath=True)\n\u001b[0m\u001b[1;32m   4118\u001b[0m \u001b[0;34m\u001b[0m\u001b[0m\n\u001b[1;32m   4119\u001b[0m         \u001b[0mself\u001b[0m\u001b[0;34m.\u001b[0m\u001b[0mblocks\u001b[0m \u001b[0;34m=\u001b[0m \u001b[0;34m[\u001b[0m\u001b[0mblock\u001b[0m\u001b[0;34m]\u001b[0m\u001b[0;34m\u001b[0m\u001b[0m\n",
      "\u001b[0;32m~/anaconda3/lib/python3.6/site-packages/pandas/core/internals.py\u001b[0m in \u001b[0;36mmake_block\u001b[0;34m(values, placement, klass, ndim, dtype, fastpath)\u001b[0m\n\u001b[1;32m   2717\u001b[0m                      placement=placement, dtype=dtype)\n\u001b[1;32m   2718\u001b[0m \u001b[0;34m\u001b[0m\u001b[0m\n\u001b[0;32m-> 2719\u001b[0;31m     \u001b[0;32mreturn\u001b[0m \u001b[0mklass\u001b[0m\u001b[0;34m(\u001b[0m\u001b[0mvalues\u001b[0m\u001b[0;34m,\u001b[0m \u001b[0mndim\u001b[0m\u001b[0;34m=\u001b[0m\u001b[0mndim\u001b[0m\u001b[0;34m,\u001b[0m \u001b[0mfastpath\u001b[0m\u001b[0;34m=\u001b[0m\u001b[0mfastpath\u001b[0m\u001b[0;34m,\u001b[0m \u001b[0mplacement\u001b[0m\u001b[0;34m=\u001b[0m\u001b[0mplacement\u001b[0m\u001b[0;34m)\u001b[0m\u001b[0;34m\u001b[0m\u001b[0m\n\u001b[0m\u001b[1;32m   2720\u001b[0m \u001b[0;34m\u001b[0m\u001b[0m\n\u001b[1;32m   2721\u001b[0m \u001b[0;31m# TODO: flexible with index=None and/or items=None\u001b[0m\u001b[0;34m\u001b[0m\u001b[0;34m\u001b[0m\u001b[0m\n",
      "\u001b[0;32m~/anaconda3/lib/python3.6/site-packages/pandas/core/internals.py\u001b[0m in \u001b[0;36m__init__\u001b[0;34m(self, values, placement, ndim, fastpath)\u001b[0m\n\u001b[1;32m    113\u001b[0m             raise ValueError('Wrong number of items passed %d, placement '\n\u001b[1;32m    114\u001b[0m                              'implies %d' % (len(self.values),\n\u001b[0;32m--> 115\u001b[0;31m                                              len(self.mgr_locs)))\n\u001b[0m\u001b[1;32m    116\u001b[0m \u001b[0;34m\u001b[0m\u001b[0m\n\u001b[1;32m    117\u001b[0m     \u001b[0;34m@\u001b[0m\u001b[0mproperty\u001b[0m\u001b[0;34m\u001b[0m\u001b[0m\n",
      "\u001b[0;31mValueError\u001b[0m: Wrong number of items passed 0, placement implies 2211"
     ]
    }
   ],
   "source": [
    "first_counts = pd.Series(data=data[(data['twt_yr'] == 2018) & (data['twt_month'] == 6) & (data['twt_day'] == 12)]['SA'].values, index=data[data['twt_yr'] > 2016]['Date'])\n",
    "first_counts.plot(figsize=(16,4), color='r');"
   ]
  },
  {
   "cell_type": "markdown",
   "metadata": {},
   "source": [
    "# More preprocessing"
   ]
  },
  {
   "cell_type": "code",
   "execution_count": null,
   "metadata": {},
   "outputs": [],
   "source": []
  }
 ],
 "metadata": {
  "kernelspec": {
   "display_name": "Python 3",
   "language": "python",
   "name": "python3"
  },
  "language_info": {
   "codemirror_mode": {
    "name": "ipython",
    "version": 3
   },
   "file_extension": ".py",
   "mimetype": "text/x-python",
   "name": "python",
   "nbconvert_exporter": "python",
   "pygments_lexer": "ipython3",
   "version": "3.6.3"
  }
 },
 "nbformat": 4,
 "nbformat_minor": 2
}
